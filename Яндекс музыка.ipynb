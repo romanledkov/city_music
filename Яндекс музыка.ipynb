{
 "cells": [
  {
   "cell_type": "markdown",
   "metadata": {
    "id": "E0vqbgi9ay0H"
   },
   "source": [
    "# Яндекс Музыка"
   ]
  },
  {
   "cell_type": "markdown",
   "metadata": {
    "id": "VUC88oWjTJw2"
   },
   "source": [
    "Сравнение Москвы и Петербурга окружено мифами. Например:\n",
    " * Москва — мегаполис, подчинённый жёсткому ритму рабочей недели;\n",
    " * Петербург — культурная столица, со своими вкусами.\n",
    "\n",
    "На данных Яндекс.Музыки вы сравните поведение пользователей двух столиц.\n",
    "\n",
    "**Цель исследования** — проверьте три гипотезы:\n",
    "1. Активность пользователей зависит от дня недели. Причём в Москве и Петербурге это проявляется по-разному.\n",
    "2. В понедельник утром в Москве преобладают одни жанры, а в Петербурге — другие. Так же и вечером пятницы преобладают разные жанры — в зависимости от города. \n",
    "3. Москва и Петербург предпочитают разные жанры музыки. В Москве чаще слушают поп-музыку, в Петербурге — русский рэп.\n",
    "\n",
    "**Ход исследования**\n",
    "\n",
    "Данные о поведении пользователей вы получите из файла `yandex_music_project.csv`. О качестве данных ничего не известно. Поэтому перед проверкой гипотез понадобится обзор данных. \n",
    "\n",
    "Вы проверите данные на ошибки и оцените их влияние на исследование. Затем, на этапе предобработки вы поищете возможность исправить самые критичные ошибки данных.\n",
    " \n",
    "Таким образом, исследование пройдёт в три этапа:\n",
    " 1. Обзор данных.\n",
    " 2. Предобработка данных.\n",
    " 3. Проверка гипотез.\n",
    "\n"
   ]
  },
  {
   "cell_type": "markdown",
   "metadata": {
    "id": "Ml1hmfXC_Zcs"
   },
   "source": [
    "## Обзор данных"
   ]
  },
  {
   "cell_type": "code",
   "execution_count": 1,
   "metadata": {
    "id": "AXN7PHPN_Zcs"
   },
   "outputs": [],
   "source": [
    "import pandas as pd # импорт библиотеки pandas"
   ]
  },
  {
   "cell_type": "code",
   "execution_count": 2,
   "metadata": {
    "id": "fFVu7vqh_Zct"
   },
   "outputs": [],
   "source": [
    "df = pd.read_csv('/datasets/yandex_music_project.csv') # чтение файла с данными и сохранение в df"
   ]
  },
  {
   "cell_type": "code",
   "execution_count": 3,
   "metadata": {
    "id": "oWTVX3gW_Zct"
   },
   "outputs": [
    {
     "data": {
      "text/html": [
       "<div>\n",
       "<style scoped>\n",
       "    .dataframe tbody tr th:only-of-type {\n",
       "        vertical-align: middle;\n",
       "    }\n",
       "\n",
       "    .dataframe tbody tr th {\n",
       "        vertical-align: top;\n",
       "    }\n",
       "\n",
       "    .dataframe thead th {\n",
       "        text-align: right;\n",
       "    }\n",
       "</style>\n",
       "<table border=\"1\" class=\"dataframe\">\n",
       "  <thead>\n",
       "    <tr style=\"text-align: right;\">\n",
       "      <th></th>\n",
       "      <th>userID</th>\n",
       "      <th>Track</th>\n",
       "      <th>artist</th>\n",
       "      <th>genre</th>\n",
       "      <th>City</th>\n",
       "      <th>time</th>\n",
       "      <th>Day</th>\n",
       "    </tr>\n",
       "  </thead>\n",
       "  <tbody>\n",
       "    <tr>\n",
       "      <th>0</th>\n",
       "      <td>FFB692EC</td>\n",
       "      <td>Kamigata To Boots</td>\n",
       "      <td>The Mass Missile</td>\n",
       "      <td>rock</td>\n",
       "      <td>Saint-Petersburg</td>\n",
       "      <td>20:28:33</td>\n",
       "      <td>Wednesday</td>\n",
       "    </tr>\n",
       "    <tr>\n",
       "      <th>1</th>\n",
       "      <td>55204538</td>\n",
       "      <td>Delayed Because of Accident</td>\n",
       "      <td>Andreas Rönnberg</td>\n",
       "      <td>rock</td>\n",
       "      <td>Moscow</td>\n",
       "      <td>14:07:09</td>\n",
       "      <td>Friday</td>\n",
       "    </tr>\n",
       "    <tr>\n",
       "      <th>2</th>\n",
       "      <td>20EC38</td>\n",
       "      <td>Funiculì funiculà</td>\n",
       "      <td>Mario Lanza</td>\n",
       "      <td>pop</td>\n",
       "      <td>Saint-Petersburg</td>\n",
       "      <td>20:58:07</td>\n",
       "      <td>Wednesday</td>\n",
       "    </tr>\n",
       "    <tr>\n",
       "      <th>3</th>\n",
       "      <td>A3DD03C9</td>\n",
       "      <td>Dragons in the Sunset</td>\n",
       "      <td>Fire + Ice</td>\n",
       "      <td>folk</td>\n",
       "      <td>Saint-Petersburg</td>\n",
       "      <td>08:37:09</td>\n",
       "      <td>Monday</td>\n",
       "    </tr>\n",
       "    <tr>\n",
       "      <th>4</th>\n",
       "      <td>E2DC1FAE</td>\n",
       "      <td>Soul People</td>\n",
       "      <td>Space Echo</td>\n",
       "      <td>dance</td>\n",
       "      <td>Moscow</td>\n",
       "      <td>08:34:34</td>\n",
       "      <td>Monday</td>\n",
       "    </tr>\n",
       "    <tr>\n",
       "      <th>5</th>\n",
       "      <td>842029A1</td>\n",
       "      <td>Преданная</td>\n",
       "      <td>IMPERVTOR</td>\n",
       "      <td>rusrap</td>\n",
       "      <td>Saint-Petersburg</td>\n",
       "      <td>13:09:41</td>\n",
       "      <td>Friday</td>\n",
       "    </tr>\n",
       "    <tr>\n",
       "      <th>6</th>\n",
       "      <td>4CB90AA5</td>\n",
       "      <td>True</td>\n",
       "      <td>Roman Messer</td>\n",
       "      <td>dance</td>\n",
       "      <td>Moscow</td>\n",
       "      <td>13:00:07</td>\n",
       "      <td>Wednesday</td>\n",
       "    </tr>\n",
       "    <tr>\n",
       "      <th>7</th>\n",
       "      <td>F03E1C1F</td>\n",
       "      <td>Feeling This Way</td>\n",
       "      <td>Polina Griffith</td>\n",
       "      <td>dance</td>\n",
       "      <td>Moscow</td>\n",
       "      <td>20:47:49</td>\n",
       "      <td>Wednesday</td>\n",
       "    </tr>\n",
       "    <tr>\n",
       "      <th>8</th>\n",
       "      <td>8FA1D3BE</td>\n",
       "      <td>И вновь продолжается бой</td>\n",
       "      <td>NaN</td>\n",
       "      <td>ruspop</td>\n",
       "      <td>Moscow</td>\n",
       "      <td>09:17:40</td>\n",
       "      <td>Friday</td>\n",
       "    </tr>\n",
       "    <tr>\n",
       "      <th>9</th>\n",
       "      <td>E772D5C0</td>\n",
       "      <td>Pessimist</td>\n",
       "      <td>NaN</td>\n",
       "      <td>dance</td>\n",
       "      <td>Saint-Petersburg</td>\n",
       "      <td>21:20:49</td>\n",
       "      <td>Wednesday</td>\n",
       "    </tr>\n",
       "  </tbody>\n",
       "</table>\n",
       "</div>"
      ],
      "text/plain": [
       "     userID                        Track            artist   genre  \\\n",
       "0  FFB692EC            Kamigata To Boots  The Mass Missile    rock   \n",
       "1  55204538  Delayed Because of Accident  Andreas Rönnberg    rock   \n",
       "2    20EC38            Funiculì funiculà       Mario Lanza     pop   \n",
       "3  A3DD03C9        Dragons in the Sunset        Fire + Ice    folk   \n",
       "4  E2DC1FAE                  Soul People        Space Echo   dance   \n",
       "5  842029A1                    Преданная         IMPERVTOR  rusrap   \n",
       "6  4CB90AA5                         True      Roman Messer   dance   \n",
       "7  F03E1C1F             Feeling This Way   Polina Griffith   dance   \n",
       "8  8FA1D3BE     И вновь продолжается бой               NaN  ruspop   \n",
       "9  E772D5C0                    Pessimist               NaN   dance   \n",
       "\n",
       "             City        time        Day  \n",
       "0  Saint-Petersburg  20:28:33  Wednesday  \n",
       "1            Moscow  14:07:09     Friday  \n",
       "2  Saint-Petersburg  20:58:07  Wednesday  \n",
       "3  Saint-Petersburg  08:37:09     Monday  \n",
       "4            Moscow  08:34:34     Monday  \n",
       "5  Saint-Petersburg  13:09:41     Friday  \n",
       "6            Moscow  13:00:07  Wednesday  \n",
       "7            Moscow  20:47:49  Wednesday  \n",
       "8            Moscow  09:17:40     Friday  \n",
       "9  Saint-Petersburg  21:20:49  Wednesday  "
      ]
     },
     "execution_count": 3,
     "metadata": {},
     "output_type": "execute_result"
    }
   ],
   "source": [
    "df.head(10) # получение первых 10 строк таблицы df"
   ]
  },
  {
   "cell_type": "code",
   "execution_count": 4,
   "metadata": {
    "id": "DSf2kIb-_Zct"
   },
   "outputs": [
    {
     "name": "stdout",
     "output_type": "stream",
     "text": [
      "<class 'pandas.core.frame.DataFrame'>\n",
      "RangeIndex: 65079 entries, 0 to 65078\n",
      "Data columns (total 7 columns):\n",
      " #   Column    Non-Null Count  Dtype \n",
      "---  ------    --------------  ----- \n",
      " 0     userID  65079 non-null  object\n",
      " 1   Track     63848 non-null  object\n",
      " 2   artist    57876 non-null  object\n",
      " 3   genre     63881 non-null  object\n",
      " 4     City    65079 non-null  object\n",
      " 5   time      65079 non-null  object\n",
      " 6   Day       65079 non-null  object\n",
      "dtypes: object(7)\n",
      "memory usage: 3.5+ MB\n"
     ]
    }
   ],
   "source": [
    "df.info() # получение общей информации о данных в таблице df"
   ]
  },
  {
   "cell_type": "markdown",
   "metadata": {
    "id": "TaQ2Iwbr_Zct"
   },
   "source": [
    "Итак, в таблице семь столбцов. Тип данных во всех столбцах — `object`.\n",
    "\n",
    "Согласно документации к данным:\n",
    "* `userID` — идентификатор пользователя;\n",
    "* `Track` — название трека;  \n",
    "* `artist` — имя исполнителя;\n",
    "* `genre` — название жанра;\n",
    "* `City` — город пользователя;\n",
    "* `time` — время начала прослушивания;\n",
    "* `Day` — день недели.\n",
    "\n",
    "В названиях колонок видны три нарушения стиля:\n",
    "1. Строчные буквы сочетаются с прописными.\n",
    "2. Встречаются пробелы.\n",
    "3. Не соблюден snake_case #исправлено с \"Не используется \"змеиный_регистр\"\" на \"не соблюден snake_case\"\n",
    "\n",
    "\n",
    "\n",
    "Количество значений в столбцах различается. Значит, в данных есть пропущенные значения.\n"
   ]
  },
  {
   "cell_type": "markdown",
   "metadata": {
    "id": "MCB6-dXG_Zct"
   },
   "source": [
    "**Выводы**\n",
    "\n",
    "В каждой строке таблицы — данные о прослушанном треке. Часть колонок описывает саму композицию: название, исполнителя и жанр. Остальные данные рассказывают о пользователе: из какого он города, когда он слушал музыку. \n",
    "\n",
    "Предварительно можно утверждать, что, данных достаточно для проверки гипотез. Но встречаются пропуски в данных, а в названиях колонок — расхождения с хорошим стилем.\n",
    "\n",
    "Чтобы двигаться дальше, нужно устранить проблемы в данных."
   ]
  },
  {
   "cell_type": "markdown",
   "metadata": {
    "id": "SjYF6Ub9_Zct"
   },
   "source": [
    "## Предобработка данных\n"
   ]
  },
  {
   "cell_type": "markdown",
   "metadata": {
    "id": "dIaKXr29_Zct"
   },
   "source": [
    "### Стиль заголовков\n"
   ]
  },
  {
   "cell_type": "code",
   "execution_count": 5,
   "metadata": {
    "id": "oKOTdF_Q_Zct"
   },
   "outputs": [
    {
     "data": {
      "text/plain": [
       "Index(['  userID', 'Track', 'artist', 'genre', '  City  ', 'time', 'Day'], dtype='object')"
      ]
     },
     "execution_count": 5,
     "metadata": {},
     "output_type": "execute_result"
    }
   ],
   "source": [
    "df.columns # перечень названий столбцов таблицы df"
   ]
  },
  {
   "cell_type": "markdown",
   "metadata": {
    "id": "zj5534cv_Zct"
   },
   "source": [
    "Приведите названия в соответствие с хорошим стилем:\n",
    "* несколько слов в названии запишите в «змеином_регистре»,\n",
    "* все символы сделайте строчными,\n",
    "* устраните пробелы.\n",
    "\n",
    "Для этого переименуйте колонки так:\n",
    "* `'  userID'` → `'user_id'`;\n",
    "* `'Track'` → `'track'`;\n",
    "* `'  City  '` → `'city'`;\n",
    "* `'Day'` → `'day'`."
   ]
  },
  {
   "cell_type": "code",
   "execution_count": 6,
   "metadata": {
    "id": "ISlFqs5y_Zct"
   },
   "outputs": [],
   "source": [
    "df = df.rename(columns={'  userID':'user_id', 'Track':'track', '  City  ':'city', 'Day':'day'}) # переименование столбцов"
   ]
  },
  {
   "cell_type": "code",
   "execution_count": 7,
   "metadata": {
    "id": "d4NOAmTW_Zct"
   },
   "outputs": [
    {
     "data": {
      "text/plain": [
       "Index(['user_id', 'track', 'artist', 'genre', 'city', 'time', 'day'], dtype='object')"
      ]
     },
     "execution_count": 7,
     "metadata": {},
     "output_type": "execute_result"
    }
   ],
   "source": [
    "df.columns # проверка результатов - перечень названий столбцов"
   ]
  },
  {
   "cell_type": "markdown",
   "metadata": {
    "id": "5ISfbcfY_Zct"
   },
   "source": [
    "### Пропуски значений\n"
   ]
  },
  {
   "cell_type": "code",
   "execution_count": 8,
   "metadata": {
    "id": "RskX29qr_Zct"
   },
   "outputs": [
    {
     "data": {
      "text/plain": [
       "user_id       0\n",
       "track      1231\n",
       "artist     7203\n",
       "genre      1198\n",
       "city          0\n",
       "time          0\n",
       "day           0\n",
       "dtype: int64"
      ]
     },
     "execution_count": 8,
     "metadata": {},
     "output_type": "execute_result"
    }
   ],
   "source": [
    "df.isna().sum() # подсчёт пропусков"
   ]
  },
  {
   "cell_type": "markdown",
   "metadata": {
    "id": "qubhgnlO_Zct"
   },
   "source": [
    "Не все пропущенные значения влияют на исследование. Так в `track` и `artist` пропуски не важны для вашей работы. Достаточно заменить их явными обозначениями.\n",
    "\n",
    "Но пропуски в `genre` могут помешать сравнению музыкальных вкусов в Москве и Санкт-Петербурге. На практике было бы правильно установить причину пропусков и восстановить данные. Такой возможности нет в учебном проекте. Придётся:\n",
    "* заполнить и эти пропуски явными обозначениями,\n",
    "* оценить, насколько они повредят расчётам. "
   ]
  },
  {
   "cell_type": "code",
   "execution_count": 9,
   "metadata": {
    "id": "KplB5qWs_Zct"
   },
   "outputs": [],
   "source": [
    "columns_to_replace = ['track', 'artist', 'genre']\n",
    "for i in columns_to_replace:\n",
    "    df[i] = df[i].fillna('unknown')\n",
    "# перебор названий столбцов в цикле и замена пропущенных значений на 'unknown'"
   ]
  },
  {
   "cell_type": "code",
   "execution_count": 10,
   "metadata": {
    "id": "Tq4nYRX4_Zct"
   },
   "outputs": [
    {
     "data": {
      "text/plain": [
       "user_id    0\n",
       "track      0\n",
       "artist     0\n",
       "genre      0\n",
       "city       0\n",
       "time       0\n",
       "day        0\n",
       "dtype: int64"
      ]
     },
     "execution_count": 10,
     "metadata": {},
     "output_type": "execute_result"
    }
   ],
   "source": [
    "df.isna().sum()\n",
    "# подсчёт пропусков"
   ]
  },
  {
   "cell_type": "markdown",
   "metadata": {
    "id": "BWKRtBJ3_Zct"
   },
   "source": [
    "### Дубликаты\n"
   ]
  },
  {
   "cell_type": "code",
   "execution_count": 11,
   "metadata": {
    "id": "36eES_S0_Zct"
   },
   "outputs": [
    {
     "data": {
      "text/plain": [
       "3826"
      ]
     },
     "execution_count": 11,
     "metadata": {},
     "output_type": "execute_result"
    }
   ],
   "source": [
    "df.duplicated().sum() # подсчёт явных дубликатов"
   ]
  },
  {
   "cell_type": "code",
   "execution_count": 12,
   "metadata": {
    "id": "exFHq6tt_Zct"
   },
   "outputs": [],
   "source": [
    "df = df.drop_duplicates()\n",
    "# удаление явных дубликатов (с удалением старых индексов и формированием новых)"
   ]
  },
  {
   "cell_type": "code",
   "execution_count": 13,
   "metadata": {
    "id": "-8PuNWQ0_Zct"
   },
   "outputs": [
    {
     "data": {
      "text/plain": [
       "0"
      ]
     },
     "execution_count": 13,
     "metadata": {},
     "output_type": "execute_result"
    }
   ],
   "source": [
    "df.duplicated().sum()\n",
    "# проверка на отсутствие дубликатов"
   ]
  },
  {
   "cell_type": "code",
   "execution_count": 14,
   "metadata": {
    "id": "JIUcqzZN_Zct",
    "scrolled": false
   },
   "outputs": [
    {
     "data": {
      "text/plain": [
       "array(['acid', 'acoustic', 'action', 'adult', 'africa', 'afrikaans',\n",
       "       'alternative', 'alternativepunk', 'ambient', 'americana',\n",
       "       'animated', 'anime', 'arabesk', 'arabic', 'arena',\n",
       "       'argentinetango', 'art', 'audiobook', 'author', 'avantgarde',\n",
       "       'axé', 'baile', 'balkan', 'beats', 'bigroom', 'black', 'bluegrass',\n",
       "       'blues', 'bollywood', 'bossa', 'brazilian', 'breakbeat', 'breaks',\n",
       "       'broadway', 'cantautori', 'cantopop', 'canzone', 'caribbean',\n",
       "       'caucasian', 'celtic', 'chamber', 'chanson', 'children', 'chill',\n",
       "       'chinese', 'choral', 'christian', 'christmas', 'classical',\n",
       "       'classicmetal', 'club', 'colombian', 'comedy', 'conjazz',\n",
       "       'contemporary', 'country', 'cuban', 'dance', 'dancehall',\n",
       "       'dancepop', 'dark', 'death', 'deep', 'deutschrock', 'deutschspr',\n",
       "       'dirty', 'disco', 'dnb', 'documentary', 'downbeat', 'downtempo',\n",
       "       'drum', 'dub', 'dubstep', 'eastern', 'easy', 'electronic',\n",
       "       'electropop', 'emo', 'entehno', 'epicmetal', 'estrada', 'ethnic',\n",
       "       'eurofolk', 'european', 'experimental', 'extrememetal', 'fado',\n",
       "       'fairytail', 'film', 'fitness', 'flamenco', 'folk', 'folklore',\n",
       "       'folkmetal', 'folkrock', 'folktronica', 'forró', 'frankreich',\n",
       "       'französisch', 'french', 'funk', 'future', 'gangsta', 'garage',\n",
       "       'german', 'ghazal', 'gitarre', 'glitch', 'gospel', 'gothic',\n",
       "       'grime', 'grunge', 'gypsy', 'handsup', \"hard'n'heavy\", 'hardcore',\n",
       "       'hardstyle', 'hardtechno', 'hip', 'hip-hop', 'hiphop',\n",
       "       'historisch', 'holiday', 'hop', 'horror', 'house', 'hymn', 'idm',\n",
       "       'independent', 'indian', 'indie', 'indipop', 'industrial',\n",
       "       'inspirational', 'instrumental', 'international', 'irish', 'jam',\n",
       "       'japanese', 'jazz', 'jewish', 'jpop', 'jungle', 'k-pop',\n",
       "       'karadeniz', 'karaoke', 'kayokyoku', 'korean', 'laiko', 'latin',\n",
       "       'latino', 'leftfield', 'local', 'lounge', 'loungeelectronic',\n",
       "       'lovers', 'malaysian', 'mandopop', 'marschmusik', 'meditative',\n",
       "       'mediterranean', 'melodic', 'metal', 'metalcore', 'mexican',\n",
       "       'middle', 'minimal', 'miscellaneous', 'modern', 'mood', 'mpb',\n",
       "       'muslim', 'native', 'neoklassik', 'neue', 'new', 'newage',\n",
       "       'newwave', 'nu', 'nujazz', 'numetal', 'oceania', 'old', 'opera',\n",
       "       'orchestral', 'other', 'piano', 'podcasts', 'pop', 'popdance',\n",
       "       'popelectronic', 'popeurodance', 'poprussian', 'post',\n",
       "       'posthardcore', 'postrock', 'power', 'progmetal', 'progressive',\n",
       "       'psychedelic', 'punjabi', 'punk', 'quebecois', 'ragga', 'ram',\n",
       "       'rancheras', 'rap', 'rave', 'reggae', 'reggaeton', 'regional',\n",
       "       'relax', 'religious', 'retro', 'rhythm', 'rnb', 'rnr', 'rock',\n",
       "       'rockabilly', 'rockalternative', 'rockindie', 'rockother',\n",
       "       'romance', 'roots', 'ruspop', 'rusrap', 'rusrock', 'russian',\n",
       "       'salsa', 'samba', 'scenic', 'schlager', 'self', 'sertanejo',\n",
       "       'shanson', 'shoegazing', 'showtunes', 'singer', 'ska', 'skarock',\n",
       "       'slow', 'smooth', 'soft', 'soul', 'soulful', 'sound', 'soundtrack',\n",
       "       'southern', 'specialty', 'speech', 'spiritual', 'sport',\n",
       "       'stonerrock', 'surf', 'swing', 'synthpop', 'synthrock',\n",
       "       'sängerportrait', 'tango', 'tanzorchester', 'taraftar', 'tatar',\n",
       "       'tech', 'techno', 'teen', 'thrash', 'top', 'traditional',\n",
       "       'tradjazz', 'trance', 'tribal', 'trip', 'triphop', 'tropical',\n",
       "       'türk', 'türkçe', 'ukrrock', 'unknown', 'urban', 'uzbek',\n",
       "       'variété', 'vi', 'videogame', 'vocal', 'western', 'world',\n",
       "       'worldbeat', 'ïîï', 'электроника'], dtype=object)"
      ]
     },
     "execution_count": 14,
     "metadata": {},
     "output_type": "execute_result"
    }
   ],
   "source": [
    "df['genre'].sort_values().unique()\n",
    "   # Просмотр уникальных названий жанров"
   ]
  },
  {
   "cell_type": "code",
   "execution_count": 15,
   "metadata": {
    "id": "ErNDkmns_Zct"
   },
   "outputs": [],
   "source": [
    "def replace_wrong_genres(wrong_genres, correct_genre):\n",
    "    for wrong_genre in wrong_genres: #исправлено с i на wrong_genre\n",
    "        df['genre'] = df['genre'].replace(wrong_genre, correct_genre) #исправлено с wrong_genres на wrong_genre\n",
    "# Функция для замены неявных дубликатов"
   ]
  },
  {
   "cell_type": "code",
   "execution_count": 16,
   "metadata": {
    "id": "YN5i2hpmSo09",
    "scrolled": false
   },
   "outputs": [],
   "source": [
    "wrong_genres = ['hip', 'hop', 'hip-hop']\n",
    "correct_genre = 'hiphop'\n",
    "replace_wrong_genres(wrong_genres, correct_genre)\n",
    " \n",
    "\n",
    "# Устранение неявных дубликатов"
   ]
  },
  {
   "cell_type": "code",
   "execution_count": 17,
   "metadata": {
    "id": "wvixALnFG15m"
   },
   "outputs": [
    {
     "data": {
      "text/plain": [
       "array(['acid', 'acoustic', 'action', 'adult', 'africa', 'afrikaans',\n",
       "       'alternative', 'alternativepunk', 'ambient', 'americana',\n",
       "       'animated', 'anime', 'arabesk', 'arabic', 'arena',\n",
       "       'argentinetango', 'art', 'audiobook', 'author', 'avantgarde',\n",
       "       'axé', 'baile', 'balkan', 'beats', 'bigroom', 'black', 'bluegrass',\n",
       "       'blues', 'bollywood', 'bossa', 'brazilian', 'breakbeat', 'breaks',\n",
       "       'broadway', 'cantautori', 'cantopop', 'canzone', 'caribbean',\n",
       "       'caucasian', 'celtic', 'chamber', 'chanson', 'children', 'chill',\n",
       "       'chinese', 'choral', 'christian', 'christmas', 'classical',\n",
       "       'classicmetal', 'club', 'colombian', 'comedy', 'conjazz',\n",
       "       'contemporary', 'country', 'cuban', 'dance', 'dancehall',\n",
       "       'dancepop', 'dark', 'death', 'deep', 'deutschrock', 'deutschspr',\n",
       "       'dirty', 'disco', 'dnb', 'documentary', 'downbeat', 'downtempo',\n",
       "       'drum', 'dub', 'dubstep', 'eastern', 'easy', 'electronic',\n",
       "       'electropop', 'emo', 'entehno', 'epicmetal', 'estrada', 'ethnic',\n",
       "       'eurofolk', 'european', 'experimental', 'extrememetal', 'fado',\n",
       "       'fairytail', 'film', 'fitness', 'flamenco', 'folk', 'folklore',\n",
       "       'folkmetal', 'folkrock', 'folktronica', 'forró', 'frankreich',\n",
       "       'französisch', 'french', 'funk', 'future', 'gangsta', 'garage',\n",
       "       'german', 'ghazal', 'gitarre', 'glitch', 'gospel', 'gothic',\n",
       "       'grime', 'grunge', 'gypsy', 'handsup', \"hard'n'heavy\", 'hardcore',\n",
       "       'hardstyle', 'hardtechno', 'hiphop', 'historisch', 'holiday',\n",
       "       'horror', 'house', 'hymn', 'idm', 'independent', 'indian', 'indie',\n",
       "       'indipop', 'industrial', 'inspirational', 'instrumental',\n",
       "       'international', 'irish', 'jam', 'japanese', 'jazz', 'jewish',\n",
       "       'jpop', 'jungle', 'k-pop', 'karadeniz', 'karaoke', 'kayokyoku',\n",
       "       'korean', 'laiko', 'latin', 'latino', 'leftfield', 'local',\n",
       "       'lounge', 'loungeelectronic', 'lovers', 'malaysian', 'mandopop',\n",
       "       'marschmusik', 'meditative', 'mediterranean', 'melodic', 'metal',\n",
       "       'metalcore', 'mexican', 'middle', 'minimal', 'miscellaneous',\n",
       "       'modern', 'mood', 'mpb', 'muslim', 'native', 'neoklassik', 'neue',\n",
       "       'new', 'newage', 'newwave', 'nu', 'nujazz', 'numetal', 'oceania',\n",
       "       'old', 'opera', 'orchestral', 'other', 'piano', 'podcasts', 'pop',\n",
       "       'popdance', 'popelectronic', 'popeurodance', 'poprussian', 'post',\n",
       "       'posthardcore', 'postrock', 'power', 'progmetal', 'progressive',\n",
       "       'psychedelic', 'punjabi', 'punk', 'quebecois', 'ragga', 'ram',\n",
       "       'rancheras', 'rap', 'rave', 'reggae', 'reggaeton', 'regional',\n",
       "       'relax', 'religious', 'retro', 'rhythm', 'rnb', 'rnr', 'rock',\n",
       "       'rockabilly', 'rockalternative', 'rockindie', 'rockother',\n",
       "       'romance', 'roots', 'ruspop', 'rusrap', 'rusrock', 'russian',\n",
       "       'salsa', 'samba', 'scenic', 'schlager', 'self', 'sertanejo',\n",
       "       'shanson', 'shoegazing', 'showtunes', 'singer', 'ska', 'skarock',\n",
       "       'slow', 'smooth', 'soft', 'soul', 'soulful', 'sound', 'soundtrack',\n",
       "       'southern', 'specialty', 'speech', 'spiritual', 'sport',\n",
       "       'stonerrock', 'surf', 'swing', 'synthpop', 'synthrock',\n",
       "       'sängerportrait', 'tango', 'tanzorchester', 'taraftar', 'tatar',\n",
       "       'tech', 'techno', 'teen', 'thrash', 'top', 'traditional',\n",
       "       'tradjazz', 'trance', 'tribal', 'trip', 'triphop', 'tropical',\n",
       "       'türk', 'türkçe', 'ukrrock', 'unknown', 'urban', 'uzbek',\n",
       "       'variété', 'vi', 'videogame', 'vocal', 'western', 'world',\n",
       "       'worldbeat', 'ïîï', 'электроника'], dtype=object)"
      ]
     },
     "execution_count": 17,
     "metadata": {},
     "output_type": "execute_result"
    }
   ],
   "source": [
    "df['genre'].sort_values().unique()\n",
    "# Проверка на неявные дубликаты"
   ]
  },
  {
   "cell_type": "markdown",
   "metadata": {
    "id": "jz6a9-7HQUDd"
   },
   "source": [
    "**Выводы**\n",
    "\n",
    "Предобработка обнаружила три проблемы в данных:\n",
    "\n",
    "- нарушения в стиле заголовков,\n",
    "- пропущенные значения,\n",
    "- дубликаты — явные и неявные.\n",
    "\n",
    "Вы исправили заголовки, чтобы упростить работу с таблицей. Без дубликатов исследование станет более точным.\n",
    "\n",
    "Пропущенные значения вы заменили на `'unknown'`. Ещё предстоит увидеть, не повредят ли исследованию пропуски в колонке `genre`.\n",
    "\n",
    "Теперь можно перейти к проверке гипотез. "
   ]
  },
  {
   "cell_type": "markdown",
   "metadata": {
    "id": "WttZHXH0SqKk"
   },
   "source": [
    "## Проверка гипотез"
   ]
  },
  {
   "cell_type": "markdown",
   "metadata": {
    "id": "Im936VVi_Zcu"
   },
   "source": [
    "### Сравнение поведения пользователей двух столиц"
   ]
  },
  {
   "cell_type": "markdown",
   "metadata": {
    "id": "nwt_MuaL_Zcu"
   },
   "source": [
    "Первая гипотеза утверждает, что пользователи по-разному слушают музыку в Москве и Санкт-Петербурге. Проверьте это предположение по данным о трёх днях недели — понедельнике, среде и пятнице. Для этого:\n",
    "\n",
    "* Разделите пользователей Москвы и Санкт-Петербурга\n",
    "* Сравните, сколько треков послушала каждая группа пользователей в понедельник, среду и пятницу.\n"
   ]
  },
  {
   "cell_type": "code",
   "execution_count": 18,
   "metadata": {
    "id": "0_Qs96oh_Zcu"
   },
   "outputs": [
    {
     "data": {
      "text/plain": [
       "city\n",
       "Moscow              42741\n",
       "Saint-Petersburg    18512\n",
       "Name: day, dtype: int64"
      ]
     },
     "execution_count": 18,
     "metadata": {},
     "output_type": "execute_result"
    }
   ],
   "source": [
    "city_total_plays = df.groupby('city')['day'].count() #исправлено с метода value_count() на метод groupby()\n",
    "city_total_plays\n",
    "    # Подсчёт прослушиваний в каждом городе"
   ]
  },
  {
   "cell_type": "markdown",
   "metadata": {
    "id": "dzli3w8o_Zcu"
   },
   "source": [
    "В Москве прослушиваний больше, чем в Петербурге. Из этого не следует, что московские пользователи чаще слушают музыку. Просто самих пользователей в Москве больше.\n",
    "\n"
   ]
  },
  {
   "cell_type": "code",
   "execution_count": 39,
   "metadata": {
    "id": "uZMKjiJz_Zcu"
   },
   "outputs": [
    {
     "data": {
      "text/plain": [
       "day\n",
       "Friday       21840\n",
       "Monday       21354\n",
       "Wednesday    18059\n",
       "Name: day, dtype: int64"
      ]
     },
     "execution_count": 39,
     "metadata": {},
     "output_type": "execute_result"
    }
   ],
   "source": [
    "total_plays_day = df.groupby('day')['day'].count() #исправлено c value_counts() на groupby()\n",
    "total_plays_day\n",
    "# Подсчёт прослушиваний в каждый из трёх дней"
   ]
  },
  {
   "cell_type": "markdown",
   "metadata": {
    "id": "cC2tNrlL_Zcu"
   },
   "source": [
    "В среднем пользователи из двух городов менее активны по средам. Но картина может измениться, если рассмотреть каждый город в отдельности."
   ]
  },
  {
   "cell_type": "code",
   "execution_count": 20,
   "metadata": {
    "id": "Nz3GdQB1_Zcu"
   },
   "outputs": [],
   "source": [
    "def number_tracks(day, city):\n",
    "    track_list = df[(df['day'] == day) & (df['city'] == city )]\n",
    "    track_list_count = track_list['user_id'].count()\n",
    "    return track_list_count"
   ]
  },
  {
   "cell_type": "code",
   "execution_count": 21,
   "metadata": {
    "id": "rJcRATNQ_Zcu"
   },
   "outputs": [
    {
     "name": "stdout",
     "output_type": "stream",
     "text": [
      "15740\n"
     ]
    }
   ],
   "source": [
    "print(number_tracks('Monday', 'Moscow'))\n",
    "# количество прослушиваний в Москве по понедельникам"
   ]
  },
  {
   "cell_type": "code",
   "execution_count": 22,
   "metadata": {
    "id": "hq_ncZ5T_Zcu"
   },
   "outputs": [
    {
     "name": "stdout",
     "output_type": "stream",
     "text": [
      "5614\n"
     ]
    }
   ],
   "source": [
    "print(number_tracks('Monday', 'Saint-Petersburg'))\n",
    "# количество прослушиваний в Санкт-Петербурге по понедельникам"
   ]
  },
  {
   "cell_type": "code",
   "execution_count": 23,
   "metadata": {
    "id": "_NTy2VPU_Zcu"
   },
   "outputs": [
    {
     "name": "stdout",
     "output_type": "stream",
     "text": [
      "11056\n"
     ]
    }
   ],
   "source": [
    "print(number_tracks('Wednesday', 'Moscow'))\n",
    "# количество прослушиваний в Москве по средам"
   ]
  },
  {
   "cell_type": "code",
   "execution_count": 24,
   "metadata": {
    "id": "j2y3TAwo_Zcu"
   },
   "outputs": [
    {
     "name": "stdout",
     "output_type": "stream",
     "text": [
      "7003\n"
     ]
    }
   ],
   "source": [
    "print(number_tracks('Wednesday', 'Saint-Petersburg'))\n",
    "# количество прослушиваний в Санкт-Петербурге по средам"
   ]
  },
  {
   "cell_type": "code",
   "execution_count": 25,
   "metadata": {
    "id": "vYDw5u_K_Zcu"
   },
   "outputs": [
    {
     "name": "stdout",
     "output_type": "stream",
     "text": [
      "15945\n"
     ]
    }
   ],
   "source": [
    "print(number_tracks('Friday', 'Moscow'))\n",
    "# количество прослушиваний в Москве по пятницам"
   ]
  },
  {
   "cell_type": "code",
   "execution_count": 26,
   "metadata": {
    "id": "8_yzFtW3_Zcu"
   },
   "outputs": [
    {
     "name": "stdout",
     "output_type": "stream",
     "text": [
      "5895\n"
     ]
    }
   ],
   "source": [
    "print(number_tracks('Friday', 'Saint-Petersburg'))\n",
    "# количество прослушиваний в Санкт-Петербурге по пятницам"
   ]
  },
  {
   "cell_type": "code",
   "execution_count": 27,
   "metadata": {
    "id": "APAcLpOr_Zcu"
   },
   "outputs": [
    {
     "data": {
      "text/html": [
       "<div>\n",
       "<style scoped>\n",
       "    .dataframe tbody tr th:only-of-type {\n",
       "        vertical-align: middle;\n",
       "    }\n",
       "\n",
       "    .dataframe tbody tr th {\n",
       "        vertical-align: top;\n",
       "    }\n",
       "\n",
       "    .dataframe thead th {\n",
       "        text-align: right;\n",
       "    }\n",
       "</style>\n",
       "<table border=\"1\" class=\"dataframe\">\n",
       "  <thead>\n",
       "    <tr style=\"text-align: right;\">\n",
       "      <th></th>\n",
       "      <th>city</th>\n",
       "      <th>monday</th>\n",
       "      <th>wednesday</th>\n",
       "      <th>friday</th>\n",
       "    </tr>\n",
       "  </thead>\n",
       "  <tbody>\n",
       "    <tr>\n",
       "      <th>0</th>\n",
       "      <td>Moscow</td>\n",
       "      <td>15740</td>\n",
       "      <td>11056</td>\n",
       "      <td>15945</td>\n",
       "    </tr>\n",
       "    <tr>\n",
       "      <th>1</th>\n",
       "      <td>Saint-Petersburg</td>\n",
       "      <td>5614</td>\n",
       "      <td>7003</td>\n",
       "      <td>5895</td>\n",
       "    </tr>\n",
       "  </tbody>\n",
       "</table>\n",
       "</div>"
      ],
      "text/plain": [
       "               city  monday  wednesday  friday\n",
       "0            Moscow   15740      11056   15945\n",
       "1  Saint-Petersburg    5614       7003    5895"
      ]
     },
     "execution_count": 27,
     "metadata": {},
     "output_type": "execute_result"
    }
   ],
   "source": [
    "city_tracks = [\n",
    "    ['Moscow', 15740, 11056, 15945],\n",
    "    ['Saint-Petersburg', 5614, 7003, 5895]\n",
    "]\n",
    "\n",
    "new_sheet = pd.DataFrame(data=city_tracks, columns=['city', 'monday', 'wednesday', 'friday'])\n",
    "new_sheet\n",
    "# Таблица с результатами"
   ]
  },
  {
   "cell_type": "markdown",
   "metadata": {
    "id": "-EgPIHYu_Zcu"
   },
   "source": [
    "**Выводы**\n",
    "\n",
    "Данные показывают разницу поведения пользователей:\n",
    "\n",
    "- В Москве пик прослушиваний приходится на понедельник и пятницу, а в среду заметен спад.\n",
    "- В Петербурге, наоборот, больше слушают музыку по средам. Активность в понедельник и пятницу здесь почти в равной мере уступает среде.\n",
    "\n",
    "Значит, данные говорят в пользу первой гипотезы."
   ]
  },
  {
   "cell_type": "markdown",
   "metadata": {
    "id": "atZAxtq4_Zcu"
   },
   "source": [
    "### Музыка в начале и в конце недели"
   ]
  },
  {
   "cell_type": "markdown",
   "metadata": {
    "id": "eXrQqXFH_Zcu"
   },
   "source": [
    "Согласно второй гипотезе, утром в понедельник в Москве преобладают одни жанры, а в Петербурге — другие. Так же и вечером пятницы преобладают разные жанры — в зависимости от города."
   ]
  },
  {
   "cell_type": "code",
   "execution_count": 28,
   "metadata": {
    "id": "qeaFfM_P_Zcu"
   },
   "outputs": [],
   "source": [
    "moscow_general = df[df['city'] == 'Moscow']\n",
    "\n",
    "# получение таблицы moscow_general из тех строк таблицы df, \n",
    "# для которых значение в столбце 'city' равно 'Moscow'\n"
   ]
  },
  {
   "cell_type": "code",
   "execution_count": 29,
   "metadata": {
    "id": "ORaVRKto_Zcu"
   },
   "outputs": [],
   "source": [
    "spb_general = df[df['city'] == 'Saint-Petersburg']\n",
    "# получение таблицы spb_general из тех строк таблицы df,\n",
    "# для которых значение в столбце 'city' равно 'Saint-Petersburg'\n"
   ]
  },
  {
   "cell_type": "code",
   "execution_count": 30,
   "metadata": {
    "id": "laJT9BYl_Zcu"
   },
   "outputs": [],
   "source": [
    "def genre_weekday(table, day, time1, time2):\n",
    "    genre_df = table[(table['day'] == day) \n",
    "    & (table['time'] > time1) \n",
    "    & (table['time'] < time2)]\n",
    "    genre_df_count = genre_df.groupby('genre')['user_id'].count() #исправлено, добавлен столбец, по которому идет подсчет записей\n",
    "    genre_df_sorted_series = genre_df_count.sort_values(ascending=False) #исправлено (убран by='')\n",
    "    return display(genre_df_sorted_series.head(10))\n",
    "\n",
    "# Объявление функции genre_weekday() с параметрами table, day, time1, time2,\n",
    "# которая возвращает информацию о самых популярных жанрах в указанный день в\n",
    "# заданное время:\n",
    "# 1) в переменную genre_df сохраняются те строки переданного датафрейма table, для\n",
    "#    которых одновременно:\n",
    "#    - значение в столбце day равно значению аргумента day\n",
    "#    - значение в столбце time больше значения аргумента time1\n",
    "#    - значение в столбце time меньше значения аргумента time2\n",
    "#    Используйте последовательную фильтрацию с помощью логической индексации.\n",
    "# 2) сгруппировать датафрейм genre_df по столбцу genre, взять один из его\n",
    "#    столбцов и посчитать методом count() количество записей для каждого из\n",
    "#    присутствующих жанров, получившийся Series записать в переменную\n",
    "#    genre_df_count\n",
    "# 3) отсортировать genre_df_count по убыванию встречаемости и сохранить\n",
    "#    в переменную genre_df_sorted\n",
    "# 4) вернуть Series из 10 первых значений genre_df_sorted, это будут топ-10\n",
    "#    популярных жанров (в указанный день, в заданное время)"
   ]
  },
  {
   "cell_type": "code",
   "execution_count": 31,
   "metadata": {
    "id": "yz7itPUQ_Zcu"
   },
   "outputs": [
    {
     "data": {
      "text/plain": [
       "genre\n",
       "pop            781\n",
       "dance          549\n",
       "electronic     480\n",
       "rock           474\n",
       "hiphop         286\n",
       "ruspop         186\n",
       "world          181\n",
       "rusrap         175\n",
       "alternative    164\n",
       "unknown        161\n",
       "Name: user_id, dtype: int64"
      ]
     },
     "metadata": {},
     "output_type": "display_data"
    }
   ],
   "source": [
    "genre_weekday(moscow_general, 'Monday', '07:00', '11:00')\n",
    "# вызов функции для утра понедельника в Москве (вместо df — таблица moscow_general)\n",
    "# объекты, хранящие время, являются строками и сравниваются как строки\n",
    "# пример вызова: genre_weekday(moscow_general, 'Monday', '07:00', '11:00')"
   ]
  },
  {
   "cell_type": "code",
   "execution_count": 32,
   "metadata": {
    "id": "kwUcHPdy_Zcu"
   },
   "outputs": [
    {
     "data": {
      "text/plain": [
       "genre\n",
       "pop            218\n",
       "dance          182\n",
       "rock           162\n",
       "electronic     147\n",
       "hiphop          80\n",
       "ruspop          64\n",
       "alternative     58\n",
       "rusrap          55\n",
       "jazz            44\n",
       "classical       40\n",
       "Name: user_id, dtype: int64"
      ]
     },
     "metadata": {},
     "output_type": "display_data"
    }
   ],
   "source": [
    "genre_weekday(spb_general, 'Monday', '07:00', '11:00')\n",
    "# вызов функции для утра понедельника в Петербурге (вместо df — таблица spb_general)"
   ]
  },
  {
   "cell_type": "code",
   "execution_count": 33,
   "metadata": {
    "id": "EzXVRE1o_Zcu"
   },
   "outputs": [
    {
     "data": {
      "text/plain": [
       "genre\n",
       "pop            713\n",
       "rock           517\n",
       "dance          495\n",
       "electronic     482\n",
       "hiphop         273\n",
       "world          208\n",
       "ruspop         170\n",
       "alternative    163\n",
       "classical      163\n",
       "rusrap         142\n",
       "Name: user_id, dtype: int64"
      ]
     },
     "metadata": {},
     "output_type": "display_data"
    }
   ],
   "source": [
    "genre_weekday(moscow_general, 'Friday', '17:00', '23:00')\n",
    "# вызов функции для вечера пятницы в Москве"
   ]
  },
  {
   "cell_type": "code",
   "execution_count": 34,
   "metadata": {
    "id": "JZaEKu5v_Zcu"
   },
   "outputs": [
    {
     "data": {
      "text/plain": [
       "genre\n",
       "pop            256\n",
       "electronic     216\n",
       "rock           216\n",
       "dance          210\n",
       "hiphop          97\n",
       "alternative     63\n",
       "jazz            61\n",
       "classical       60\n",
       "rusrap          59\n",
       "world           54\n",
       "Name: user_id, dtype: int64"
      ]
     },
     "metadata": {},
     "output_type": "display_data"
    }
   ],
   "source": [
    "genre_weekday(spb_general, 'Friday', '17:00', '23:00')\n",
    "# вызов функции для вечера пятницы в Петербурге"
   ]
  },
  {
   "cell_type": "markdown",
   "metadata": {
    "id": "wrCe4MNX_Zcu"
   },
   "source": [
    "**Выводы**\n",
    "\n",
    "Если сравнить топ-10 жанров в понедельник утром, можно сделать такие выводы:\n",
    "\n",
    "1. В Москве и Петербурге слушают похожую музыку. Единственное отличие — в московский рейтинг вошёл жанр “world”, а в петербургский — джаз и классика.\n",
    "\n",
    "2. В Москве пропущенных значений оказалось так много, что значение `'unknown'` заняло десятое место среди самых популярных жанров. Значит, пропущенные значения занимают существенную долю в данных и угрожают достоверности исследования.\n",
    "\n",
    "Вечер пятницы не меняет эту картину. Некоторые жанры поднимаются немного выше, другие спускаются, но в целом топ-10 остаётся тем же самым.\n",
    "\n",
    "Таким образом, вторая гипотеза подтвердилась лишь частично:\n",
    "* Пользователи слушают похожую музыку в начале недели и в конце.\n",
    "* Разница между Москвой и Петербургом не слишком выражена. В Москве чаще слушают русскую популярную музыку, в Петербурге — джаз.\n",
    "\n",
    "Однако пропуски в данных ставят под сомнение этот результат. В Москве их так много, что рейтинг топ-10 мог бы выглядеть иначе, если бы не утерянные  данные о жанрах."
   ]
  },
  {
   "cell_type": "markdown",
   "metadata": {
    "id": "JolODAqr_Zcu"
   },
   "source": [
    "### Жанровые предпочтения в Москве и Петербурге\n",
    "\n",
    "Гипотеза: Петербург — столица рэпа, музыку этого жанра там слушают чаще, чем в Москве.  А Москва — город контрастов, в котором, тем не менее, преобладает поп-музыка."
   ]
  },
  {
   "cell_type": "code",
   "execution_count": 35,
   "metadata": {
    "id": "r19lIPke_Zcu"
   },
   "outputs": [],
   "source": [
    "moscow_genres_sorted = moscow_general.groupby('genre')['user_id'].count() #исправлено, добавлен столбец, по которому идет подсчет записей\n",
    "moscow_genres = moscow_genres_sorted.sort_values(ascending=False) #исправлено (убран by='')\n",
    "\n",
    "# одной строкой: группировка таблицы moscow_general по столбцу 'genre', \n",
    "# подсчёт числа значений 'genre' в этой группировке методом count(), \n",
    "# сортировка получившегося Series в порядке убывания и сохранение в moscow_genres"
   ]
  },
  {
   "cell_type": "code",
   "execution_count": 36,
   "metadata": {
    "id": "WhCSooF8_Zcv"
   },
   "outputs": [
    {
     "data": {
      "text/plain": [
       "genre\n",
       "pop            5892\n",
       "dance          4435\n",
       "rock           3965\n",
       "electronic     3786\n",
       "hiphop         2096\n",
       "classical      1616\n",
       "world          1432\n",
       "alternative    1379\n",
       "ruspop         1372\n",
       "rusrap         1161\n",
       "Name: user_id, dtype: int64"
      ]
     },
     "execution_count": 36,
     "metadata": {},
     "output_type": "execute_result"
    }
   ],
   "source": [
    "moscow_genres.head(10)\n",
    "# просмотр первых 10 строк moscow_genres"
   ]
  },
  {
   "cell_type": "code",
   "execution_count": 37,
   "metadata": {
    "id": "gluLIpE7_Zcv"
   },
   "outputs": [],
   "source": [
    "spb_genres_sorted = spb_general.groupby('genre')['day'].count() #исправлено, добавлен столбец, по которому идет подсчет записей\n",
    "spb_genres = spb_genres_sorted.sort_values(ascending=False) #исправлено (убран by='')\n",
    "\n",
    "# одной строкой: группировка таблицы spb_general по столбцу 'genre', \n",
    "# подсчёт числа значений 'genre' в этой группировке методом count(), \n",
    "# сортировка получившегося Series в порядке убывания и сохранение в spb_genres"
   ]
  },
  {
   "cell_type": "code",
   "execution_count": 38,
   "metadata": {
    "id": "uaGJHjVU_Zcv"
   },
   "outputs": [
    {
     "data": {
      "text/plain": [
       "genre\n",
       "pop            2431\n",
       "dance          1932\n",
       "rock           1879\n",
       "electronic     1736\n",
       "hiphop          960\n",
       "alternative     649\n",
       "classical       646\n",
       "rusrap          564\n",
       "ruspop          538\n",
       "world           515\n",
       "Name: day, dtype: int64"
      ]
     },
     "execution_count": 38,
     "metadata": {},
     "output_type": "execute_result"
    }
   ],
   "source": [
    "spb_genres.head(10)\n",
    "# просмотр первых 10 строк spb_genres"
   ]
  },
  {
   "cell_type": "markdown",
   "metadata": {
    "id": "RY51YJYu_Zcv"
   },
   "source": [
    "**Выводы**"
   ]
  },
  {
   "cell_type": "markdown",
   "metadata": {
    "id": "nVhnJEm__Zcv"
   },
   "source": [
    "Гипотеза частично подтвердилась:\n",
    "* Поп-музыка — самый популярный жанр в Москве, как и предполагала гипотеза. Более того, в топ-10 жанров встречается близкий жанр — русская популярная музыка.\n",
    "* Вопреки ожиданиям, рэп одинаково популярен в Москве и Петербурге. \n"
   ]
  },
  {
   "cell_type": "markdown",
   "metadata": {
    "id": "ykKQ0N65_Zcv"
   },
   "source": [
    "## Итоги исследования"
   ]
  },
  {
   "cell_type": "markdown",
   "metadata": {
    "id": "tjUwbHb3_Zcv"
   },
   "source": [
    "Проверены три гипотезы и установили:\n",
    "\n",
    "1. День недели по-разному влияет на активность пользователей в Москве и Петербурге. \n",
    "\n",
    "Первая гипотеза полностью подтвердилась.\n",
    "\n",
    "2. Музыкальные предпочтения не сильно меняются в течение недели — будь то Москва или Петербург. Небольшие различия заметны в начале недели, по понедельникам:\n",
    "* в Москве слушают музыку жанра “world”,\n",
    "* в Петербурге — джаз и классику.\n",
    "\n",
    "Таким образом, вторая гипотеза подтвердилась лишь отчасти. Этот результат мог оказаться иным, если бы не пропуски в данных.\n",
    "\n",
    "3. Во вкусах пользователей Москвы и Петербурга больше общего чем различий. Вопреки ожиданиям, предпочтения жанров в Петербурге напоминают московские.\n",
    "\n",
    "Третья гипотеза не подтвердилась. Если различия в предпочтениях и существуют, на основной массе пользователей они незаметны.\n",
    "\n",
    "**На практике исследования содержат проверки статистических гипотез.**\n",
    "Из данных одного сервиса не всегда можно сделать вывод о всех жителях города.\n",
    "Проверки статистических гипотез покажут, насколько они достоверны, исходя из имеющихся данных. \n"
   ]
  }
 ],
 "metadata": {
  "ExecuteTimeLog": [
   {
    "duration": 700,
    "start_time": "2022-02-26T18:32:51.722Z"
   },
   {
    "duration": 3,
    "start_time": "2022-02-26T18:32:54.656Z"
   },
   {
    "duration": 383,
    "start_time": "2022-04-05T15:39:13.340Z"
   },
   {
    "duration": 165,
    "start_time": "2022-04-05T15:39:18.367Z"
   },
   {
    "duration": 16,
    "start_time": "2022-04-05T15:39:23.828Z"
   },
   {
    "duration": 33,
    "start_time": "2022-04-05T15:39:53.742Z"
   },
   {
    "duration": 4,
    "start_time": "2022-04-05T15:52:13.397Z"
   },
   {
    "duration": 11,
    "start_time": "2022-04-05T15:54:58.656Z"
   },
   {
    "duration": 4,
    "start_time": "2022-04-05T15:55:01.121Z"
   },
   {
    "duration": 28,
    "start_time": "2022-04-05T15:59:12.451Z"
   },
   {
    "duration": 17,
    "start_time": "2022-04-05T16:07:02.281Z"
   },
   {
    "duration": 28,
    "start_time": "2022-04-05T16:09:24.131Z"
   },
   {
    "duration": 61,
    "start_time": "2022-04-05T16:10:55.257Z"
   },
   {
    "duration": 74,
    "start_time": "2022-04-05T16:11:18.127Z"
   },
   {
    "duration": 58,
    "start_time": "2022-04-05T16:11:32.039Z"
   },
   {
    "duration": 67,
    "start_time": "2022-04-05T16:12:59.110Z"
   },
   {
    "duration": 8,
    "start_time": "2022-04-05T16:14:07.138Z"
   },
   {
    "duration": 41,
    "start_time": "2022-04-05T16:16:11.308Z"
   },
   {
    "duration": 3,
    "start_time": "2022-04-05T16:23:04.023Z"
   },
   {
    "duration": 9,
    "start_time": "2022-04-05T16:25:49.580Z"
   },
   {
    "duration": 9,
    "start_time": "2022-04-05T16:26:28.888Z"
   },
   {
    "duration": 3,
    "start_time": "2022-04-05T16:29:21.624Z"
   },
   {
    "duration": 14,
    "start_time": "2022-04-05T16:29:23.685Z"
   },
   {
    "duration": 3,
    "start_time": "2022-04-05T16:30:11.221Z"
   },
   {
    "duration": 11,
    "start_time": "2022-04-05T16:30:13.822Z"
   },
   {
    "duration": 11,
    "start_time": "2022-04-05T16:31:14.781Z"
   },
   {
    "duration": 12,
    "start_time": "2022-04-05T16:31:15.914Z"
   },
   {
    "duration": 12,
    "start_time": "2022-04-05T16:34:44.600Z"
   },
   {
    "duration": 11,
    "start_time": "2022-04-05T16:35:23.374Z"
   },
   {
    "duration": 8,
    "start_time": "2022-04-05T16:36:27.397Z"
   },
   {
    "duration": 7,
    "start_time": "2022-04-05T16:36:46.237Z"
   },
   {
    "duration": 8,
    "start_time": "2022-04-05T16:36:52.773Z"
   },
   {
    "duration": 8,
    "start_time": "2022-04-05T16:36:59.566Z"
   },
   {
    "duration": 12,
    "start_time": "2022-04-05T16:37:11.010Z"
   },
   {
    "duration": 11,
    "start_time": "2022-04-05T16:41:47.768Z"
   },
   {
    "duration": 12,
    "start_time": "2022-04-05T16:42:19.852Z"
   },
   {
    "duration": 10,
    "start_time": "2022-04-05T16:47:16.283Z"
   },
   {
    "duration": 391,
    "start_time": "2022-04-05T16:49:40.933Z"
   },
   {
    "duration": 149,
    "start_time": "2022-04-05T16:49:41.326Z"
   },
   {
    "duration": 18,
    "start_time": "2022-04-05T16:49:41.476Z"
   },
   {
    "duration": 34,
    "start_time": "2022-04-05T16:49:41.502Z"
   },
   {
    "duration": 5,
    "start_time": "2022-04-05T16:49:41.538Z"
   },
   {
    "duration": 28,
    "start_time": "2022-04-05T16:49:41.545Z"
   },
   {
    "duration": 22,
    "start_time": "2022-04-05T16:49:41.574Z"
   },
   {
    "duration": 65,
    "start_time": "2022-04-05T16:49:41.598Z"
   },
   {
    "duration": 28,
    "start_time": "2022-04-05T16:49:41.665Z"
   },
   {
    "duration": 26,
    "start_time": "2022-04-05T16:49:41.696Z"
   },
   {
    "duration": 79,
    "start_time": "2022-04-05T16:49:41.724Z"
   },
   {
    "duration": 70,
    "start_time": "2022-04-05T16:49:41.805Z"
   },
   {
    "duration": 66,
    "start_time": "2022-04-05T16:49:41.877Z"
   },
   {
    "duration": 42,
    "start_time": "2022-04-05T16:49:41.945Z"
   },
   {
    "duration": 4,
    "start_time": "2022-04-05T16:49:42.001Z"
   },
   {
    "duration": 83,
    "start_time": "2022-04-05T16:49:42.006Z"
   },
   {
    "duration": 0,
    "start_time": "2022-04-05T16:49:42.091Z"
   },
   {
    "duration": 0,
    "start_time": "2022-04-05T16:49:42.092Z"
   },
   {
    "duration": 0,
    "start_time": "2022-04-05T16:49:42.093Z"
   },
   {
    "duration": 0,
    "start_time": "2022-04-05T16:49:42.093Z"
   },
   {
    "duration": 0,
    "start_time": "2022-04-05T16:49:42.094Z"
   },
   {
    "duration": 0,
    "start_time": "2022-04-05T16:49:42.094Z"
   },
   {
    "duration": 0,
    "start_time": "2022-04-05T16:49:42.095Z"
   },
   {
    "duration": 0,
    "start_time": "2022-04-05T16:49:42.096Z"
   },
   {
    "duration": 0,
    "start_time": "2022-04-05T16:49:42.101Z"
   },
   {
    "duration": 0,
    "start_time": "2022-04-05T16:49:42.102Z"
   },
   {
    "duration": 0,
    "start_time": "2022-04-05T16:49:42.103Z"
   },
   {
    "duration": 0,
    "start_time": "2022-04-05T16:49:42.109Z"
   },
   {
    "duration": 0,
    "start_time": "2022-04-05T16:49:42.110Z"
   },
   {
    "duration": 0,
    "start_time": "2022-04-05T16:49:42.111Z"
   },
   {
    "duration": 0,
    "start_time": "2022-04-05T16:49:42.112Z"
   },
   {
    "duration": 0,
    "start_time": "2022-04-05T16:49:42.113Z"
   },
   {
    "duration": 0,
    "start_time": "2022-04-05T16:49:42.113Z"
   },
   {
    "duration": 0,
    "start_time": "2022-04-05T16:49:42.114Z"
   },
   {
    "duration": 1,
    "start_time": "2022-04-05T16:49:42.115Z"
   },
   {
    "duration": 0,
    "start_time": "2022-04-05T16:49:42.117Z"
   },
   {
    "duration": 0,
    "start_time": "2022-04-05T16:49:42.117Z"
   },
   {
    "duration": 0,
    "start_time": "2022-04-05T16:49:42.118Z"
   },
   {
    "duration": 24,
    "start_time": "2022-04-05T16:50:03.972Z"
   },
   {
    "duration": 23,
    "start_time": "2022-04-05T16:50:13.199Z"
   },
   {
    "duration": 44,
    "start_time": "2022-04-05T16:50:32.844Z"
   },
   {
    "duration": 7,
    "start_time": "2022-04-05T18:20:58.968Z"
   },
   {
    "duration": 4376,
    "start_time": "2022-04-05T18:21:27.403Z"
   },
   {
    "duration": 7,
    "start_time": "2022-04-05T18:24:51.977Z"
   },
   {
    "duration": 520,
    "start_time": "2022-04-05T18:27:57.113Z"
   },
   {
    "duration": 6,
    "start_time": "2022-04-05T18:28:14.975Z"
   },
   {
    "duration": 5,
    "start_time": "2022-04-05T18:28:24.396Z"
   },
   {
    "duration": 8,
    "start_time": "2022-04-05T18:28:36.397Z"
   },
   {
    "duration": 398,
    "start_time": "2022-04-05T18:28:57.598Z"
   },
   {
    "duration": 139,
    "start_time": "2022-04-05T18:28:57.998Z"
   },
   {
    "duration": 17,
    "start_time": "2022-04-05T18:28:58.139Z"
   },
   {
    "duration": 43,
    "start_time": "2022-04-05T18:28:58.158Z"
   },
   {
    "duration": 4,
    "start_time": "2022-04-05T18:28:58.203Z"
   },
   {
    "duration": 18,
    "start_time": "2022-04-05T18:28:58.209Z"
   },
   {
    "duration": 18,
    "start_time": "2022-04-05T18:28:58.228Z"
   },
   {
    "duration": 40,
    "start_time": "2022-04-05T18:28:58.247Z"
   },
   {
    "duration": 23,
    "start_time": "2022-04-05T18:28:58.288Z"
   },
   {
    "duration": 25,
    "start_time": "2022-04-05T18:28:58.313Z"
   },
   {
    "duration": 74,
    "start_time": "2022-04-05T18:28:58.339Z"
   },
   {
    "duration": 69,
    "start_time": "2022-04-05T18:28:58.414Z"
   },
   {
    "duration": 73,
    "start_time": "2022-04-05T18:28:58.485Z"
   },
   {
    "duration": 50,
    "start_time": "2022-04-05T18:28:58.560Z"
   },
   {
    "duration": 3,
    "start_time": "2022-04-05T18:28:58.611Z"
   },
   {
    "duration": 30,
    "start_time": "2022-04-05T18:28:58.616Z"
   },
   {
    "duration": 55,
    "start_time": "2022-04-05T18:28:58.647Z"
   },
   {
    "duration": 9,
    "start_time": "2022-04-05T18:28:58.703Z"
   },
   {
    "duration": 4,
    "start_time": "2022-04-05T18:28:58.713Z"
   },
   {
    "duration": 4,
    "start_time": "2022-04-05T18:28:58.719Z"
   },
   {
    "duration": 6,
    "start_time": "2022-04-05T18:28:58.724Z"
   },
   {
    "duration": 4,
    "start_time": "2022-04-05T18:28:58.731Z"
   },
   {
    "duration": 10,
    "start_time": "2022-04-05T18:28:58.736Z"
   },
   {
    "duration": 17,
    "start_time": "2022-04-05T18:28:58.747Z"
   },
   {
    "duration": 8,
    "start_time": "2022-04-05T18:28:58.766Z"
   },
   {
    "duration": 11,
    "start_time": "2022-04-05T18:28:58.775Z"
   },
   {
    "duration": 8,
    "start_time": "2022-04-05T18:28:58.788Z"
   },
   {
    "duration": 5,
    "start_time": "2022-04-05T18:28:58.800Z"
   },
   {
    "duration": 9,
    "start_time": "2022-04-05T18:28:58.806Z"
   },
   {
    "duration": 8,
    "start_time": "2022-04-05T18:28:58.817Z"
   },
   {
    "duration": 11,
    "start_time": "2022-04-05T18:28:58.826Z"
   },
   {
    "duration": 8,
    "start_time": "2022-04-05T18:28:58.839Z"
   },
   {
    "duration": 12,
    "start_time": "2022-04-05T18:28:58.848Z"
   },
   {
    "duration": 7,
    "start_time": "2022-04-05T18:28:58.862Z"
   },
   {
    "duration": 8,
    "start_time": "2022-04-05T18:28:58.871Z"
   },
   {
    "duration": 7,
    "start_time": "2022-04-05T18:28:58.881Z"
   },
   {
    "duration": 8,
    "start_time": "2022-04-05T18:28:58.889Z"
   },
   {
    "duration": 9,
    "start_time": "2022-04-05T18:28:58.898Z"
   },
   {
    "duration": 9,
    "start_time": "2022-04-05T18:30:42.190Z"
   },
   {
    "duration": 10,
    "start_time": "2022-04-05T18:31:54.824Z"
   },
   {
    "duration": 10,
    "start_time": "2022-04-05T18:32:01.819Z"
   },
   {
    "duration": 9,
    "start_time": "2022-04-05T18:32:04.490Z"
   },
   {
    "duration": 4,
    "start_time": "2022-04-05T18:41:29.495Z"
   },
   {
    "duration": 66,
    "start_time": "2022-04-05T18:42:13.878Z"
   },
   {
    "duration": 7,
    "start_time": "2022-04-05T18:42:19.244Z"
   },
   {
    "duration": 7,
    "start_time": "2022-04-05T18:42:28.746Z"
   },
   {
    "duration": 3,
    "start_time": "2022-04-05T18:43:19.533Z"
   },
   {
    "duration": 7,
    "start_time": "2022-04-05T18:43:22.914Z"
   },
   {
    "duration": 7,
    "start_time": "2022-04-05T18:43:24.777Z"
   },
   {
    "duration": 4,
    "start_time": "2022-04-05T18:44:10.755Z"
   },
   {
    "duration": 7,
    "start_time": "2022-04-05T18:44:16.986Z"
   },
   {
    "duration": 5,
    "start_time": "2022-04-05T18:46:29.873Z"
   },
   {
    "duration": 8,
    "start_time": "2022-04-05T18:46:33.118Z"
   },
   {
    "duration": 421,
    "start_time": "2022-04-05T18:46:40.059Z"
   },
   {
    "duration": 149,
    "start_time": "2022-04-05T18:46:40.482Z"
   },
   {
    "duration": 17,
    "start_time": "2022-04-05T18:46:40.633Z"
   },
   {
    "duration": 30,
    "start_time": "2022-04-05T18:46:40.652Z"
   },
   {
    "duration": 4,
    "start_time": "2022-04-05T18:46:40.701Z"
   },
   {
    "duration": 12,
    "start_time": "2022-04-05T18:46:40.707Z"
   },
   {
    "duration": 6,
    "start_time": "2022-04-05T18:46:40.721Z"
   },
   {
    "duration": 47,
    "start_time": "2022-04-05T18:46:40.729Z"
   },
   {
    "duration": 32,
    "start_time": "2022-04-05T18:46:40.803Z"
   },
   {
    "duration": 46,
    "start_time": "2022-04-05T18:46:40.839Z"
   },
   {
    "duration": 123,
    "start_time": "2022-04-05T18:46:40.902Z"
   },
   {
    "duration": 136,
    "start_time": "2022-04-05T18:46:41.028Z"
   },
   {
    "duration": 68,
    "start_time": "2022-04-05T18:46:41.166Z"
   },
   {
    "duration": 42,
    "start_time": "2022-04-05T18:46:41.235Z"
   },
   {
    "duration": 3,
    "start_time": "2022-04-05T18:46:41.278Z"
   },
   {
    "duration": 40,
    "start_time": "2022-04-05T18:46:41.283Z"
   },
   {
    "duration": 40,
    "start_time": "2022-04-05T18:46:41.325Z"
   },
   {
    "duration": 34,
    "start_time": "2022-04-05T18:46:41.367Z"
   },
   {
    "duration": 11,
    "start_time": "2022-04-05T18:46:41.403Z"
   },
   {
    "duration": 5,
    "start_time": "2022-04-05T18:46:41.416Z"
   },
   {
    "duration": 80,
    "start_time": "2022-04-05T18:46:41.422Z"
   },
   {
    "duration": 0,
    "start_time": "2022-04-05T18:46:41.504Z"
   },
   {
    "duration": 0,
    "start_time": "2022-04-05T18:46:41.505Z"
   },
   {
    "duration": 0,
    "start_time": "2022-04-05T18:46:41.506Z"
   },
   {
    "duration": 0,
    "start_time": "2022-04-05T18:46:41.508Z"
   },
   {
    "duration": 0,
    "start_time": "2022-04-05T18:46:41.509Z"
   },
   {
    "duration": 0,
    "start_time": "2022-04-05T18:46:41.510Z"
   },
   {
    "duration": 0,
    "start_time": "2022-04-05T18:46:41.511Z"
   },
   {
    "duration": 0,
    "start_time": "2022-04-05T18:46:41.512Z"
   },
   {
    "duration": 0,
    "start_time": "2022-04-05T18:46:41.513Z"
   },
   {
    "duration": 0,
    "start_time": "2022-04-05T18:46:41.514Z"
   },
   {
    "duration": 0,
    "start_time": "2022-04-05T18:46:41.515Z"
   },
   {
    "duration": 0,
    "start_time": "2022-04-05T18:46:41.515Z"
   },
   {
    "duration": 0,
    "start_time": "2022-04-05T18:46:41.516Z"
   },
   {
    "duration": 0,
    "start_time": "2022-04-05T18:46:41.517Z"
   },
   {
    "duration": 0,
    "start_time": "2022-04-05T18:46:41.518Z"
   },
   {
    "duration": 0,
    "start_time": "2022-04-05T18:46:41.519Z"
   },
   {
    "duration": 0,
    "start_time": "2022-04-05T18:46:41.520Z"
   },
   {
    "duration": 4,
    "start_time": "2022-04-05T18:47:46.601Z"
   },
   {
    "duration": 7,
    "start_time": "2022-04-05T18:47:49.561Z"
   },
   {
    "duration": 3,
    "start_time": "2022-04-05T18:52:13.981Z"
   },
   {
    "duration": 7,
    "start_time": "2022-04-05T18:52:23.884Z"
   },
   {
    "duration": 3,
    "start_time": "2022-04-05T18:53:37.153Z"
   },
   {
    "duration": 6,
    "start_time": "2022-04-05T18:53:40.272Z"
   },
   {
    "duration": 12,
    "start_time": "2022-04-06T10:38:41.938Z"
   },
   {
    "duration": 60,
    "start_time": "2022-04-06T10:39:17.214Z"
   },
   {
    "duration": 10,
    "start_time": "2022-04-06T10:40:03.579Z"
   },
   {
    "duration": 516,
    "start_time": "2022-04-06T10:40:33.451Z"
   },
   {
    "duration": 194,
    "start_time": "2022-04-06T10:40:33.970Z"
   },
   {
    "duration": 27,
    "start_time": "2022-04-06T10:40:34.166Z"
   },
   {
    "duration": 40,
    "start_time": "2022-04-06T10:40:34.196Z"
   },
   {
    "duration": 31,
    "start_time": "2022-04-06T10:40:34.238Z"
   },
   {
    "duration": 14,
    "start_time": "2022-04-06T10:40:34.271Z"
   },
   {
    "duration": 8,
    "start_time": "2022-04-06T10:40:34.288Z"
   },
   {
    "duration": 35,
    "start_time": "2022-04-06T10:40:34.298Z"
   },
   {
    "duration": 52,
    "start_time": "2022-04-06T10:40:34.335Z"
   },
   {
    "duration": 32,
    "start_time": "2022-04-06T10:40:34.391Z"
   },
   {
    "duration": 114,
    "start_time": "2022-04-06T10:40:34.426Z"
   },
   {
    "duration": 106,
    "start_time": "2022-04-06T10:40:34.543Z"
   },
   {
    "duration": 92,
    "start_time": "2022-04-06T10:40:34.651Z"
   },
   {
    "duration": 64,
    "start_time": "2022-04-06T10:40:34.745Z"
   },
   {
    "duration": 4,
    "start_time": "2022-04-06T10:40:34.811Z"
   },
   {
    "duration": 55,
    "start_time": "2022-04-06T10:40:34.817Z"
   },
   {
    "duration": 51,
    "start_time": "2022-04-06T10:40:34.874Z"
   },
   {
    "duration": 13,
    "start_time": "2022-04-06T10:40:34.928Z"
   },
   {
    "duration": 34,
    "start_time": "2022-04-06T10:40:34.944Z"
   },
   {
    "duration": 7,
    "start_time": "2022-04-06T10:40:34.980Z"
   },
   {
    "duration": 123,
    "start_time": "2022-04-06T10:40:34.990Z"
   },
   {
    "duration": 0,
    "start_time": "2022-04-06T10:40:35.117Z"
   },
   {
    "duration": 1,
    "start_time": "2022-04-06T10:40:35.119Z"
   },
   {
    "duration": 1,
    "start_time": "2022-04-06T10:40:35.121Z"
   },
   {
    "duration": 0,
    "start_time": "2022-04-06T10:40:35.124Z"
   },
   {
    "duration": 0,
    "start_time": "2022-04-06T10:40:35.126Z"
   },
   {
    "duration": 0,
    "start_time": "2022-04-06T10:40:35.128Z"
   },
   {
    "duration": 0,
    "start_time": "2022-04-06T10:40:35.129Z"
   },
   {
    "duration": 0,
    "start_time": "2022-04-06T10:40:35.131Z"
   },
   {
    "duration": 0,
    "start_time": "2022-04-06T10:40:35.132Z"
   },
   {
    "duration": 0,
    "start_time": "2022-04-06T10:40:35.134Z"
   },
   {
    "duration": 0,
    "start_time": "2022-04-06T10:40:35.136Z"
   },
   {
    "duration": 0,
    "start_time": "2022-04-06T10:40:35.168Z"
   },
   {
    "duration": 0,
    "start_time": "2022-04-06T10:40:35.169Z"
   },
   {
    "duration": 0,
    "start_time": "2022-04-06T10:40:35.171Z"
   },
   {
    "duration": 0,
    "start_time": "2022-04-06T10:40:35.172Z"
   },
   {
    "duration": 0,
    "start_time": "2022-04-06T10:40:35.174Z"
   },
   {
    "duration": 0,
    "start_time": "2022-04-06T10:40:35.175Z"
   },
   {
    "duration": 5,
    "start_time": "2022-04-06T10:41:36.985Z"
   },
   {
    "duration": 1386,
    "start_time": "2022-04-06T10:41:42.167Z"
   },
   {
    "duration": 9,
    "start_time": "2022-04-06T10:43:49.972Z"
   },
   {
    "duration": 1193,
    "start_time": "2022-04-06T10:43:55.877Z"
   },
   {
    "duration": 8,
    "start_time": "2022-04-06T10:43:58.851Z"
   },
   {
    "duration": 12,
    "start_time": "2022-04-06T10:44:14.521Z"
   },
   {
    "duration": 12,
    "start_time": "2022-04-06T10:44:38.086Z"
   },
   {
    "duration": 14,
    "start_time": "2022-04-06T10:44:45.697Z"
   },
   {
    "duration": 12,
    "start_time": "2022-04-06T10:45:13.431Z"
   },
   {
    "duration": 1825,
    "start_time": "2022-04-06T10:45:49.621Z"
   },
   {
    "duration": 31,
    "start_time": "2022-04-06T10:46:01.127Z"
   },
   {
    "duration": 36,
    "start_time": "2022-04-06T10:46:14.725Z"
   },
   {
    "duration": 38,
    "start_time": "2022-04-06T10:46:20.086Z"
   },
   {
    "duration": 15,
    "start_time": "2022-04-06T10:47:20.294Z"
   },
   {
    "duration": 376,
    "start_time": "2022-04-06T10:47:32.933Z"
   },
   {
    "duration": 35,
    "start_time": "2022-04-06T10:48:57.187Z"
   },
   {
    "duration": 6,
    "start_time": "2022-04-06T10:49:55.471Z"
   },
   {
    "duration": 21,
    "start_time": "2022-04-06T10:50:10.639Z"
   },
   {
    "duration": 527,
    "start_time": "2022-04-06T10:58:40.450Z"
   },
   {
    "duration": 185,
    "start_time": "2022-04-06T10:58:40.981Z"
   },
   {
    "duration": 26,
    "start_time": "2022-04-06T10:58:41.169Z"
   },
   {
    "duration": 39,
    "start_time": "2022-04-06T10:58:41.198Z"
   },
   {
    "duration": 30,
    "start_time": "2022-04-06T10:58:41.239Z"
   },
   {
    "duration": 14,
    "start_time": "2022-04-06T10:58:41.271Z"
   },
   {
    "duration": 7,
    "start_time": "2022-04-06T10:58:41.288Z"
   },
   {
    "duration": 33,
    "start_time": "2022-04-06T10:58:41.298Z"
   },
   {
    "duration": 55,
    "start_time": "2022-04-06T10:58:41.334Z"
   },
   {
    "duration": 33,
    "start_time": "2022-04-06T10:58:41.393Z"
   },
   {
    "duration": 114,
    "start_time": "2022-04-06T10:58:41.428Z"
   },
   {
    "duration": 105,
    "start_time": "2022-04-06T10:58:41.544Z"
   },
   {
    "duration": 93,
    "start_time": "2022-04-06T10:58:41.651Z"
   },
   {
    "duration": 64,
    "start_time": "2022-04-06T10:58:41.746Z"
   },
   {
    "duration": 4,
    "start_time": "2022-04-06T10:58:41.812Z"
   },
   {
    "duration": 48,
    "start_time": "2022-04-06T10:58:41.819Z"
   },
   {
    "duration": 49,
    "start_time": "2022-04-06T10:58:41.870Z"
   },
   {
    "duration": 12,
    "start_time": "2022-04-06T10:58:41.921Z"
   },
   {
    "duration": 38,
    "start_time": "2022-04-06T10:58:41.935Z"
   },
   {
    "duration": 5,
    "start_time": "2022-04-06T10:58:41.975Z"
   },
   {
    "duration": 20,
    "start_time": "2022-04-06T10:58:41.982Z"
   },
   {
    "duration": 3,
    "start_time": "2022-04-06T10:58:42.004Z"
   },
   {
    "duration": 5,
    "start_time": "2022-04-06T10:58:42.009Z"
   },
   {
    "duration": 5,
    "start_time": "2022-04-06T10:58:42.016Z"
   },
   {
    "duration": 4,
    "start_time": "2022-04-06T10:58:42.023Z"
   },
   {
    "duration": 3,
    "start_time": "2022-04-06T10:58:42.068Z"
   },
   {
    "duration": 5,
    "start_time": "2022-04-06T10:58:42.073Z"
   },
   {
    "duration": 3,
    "start_time": "2022-04-06T10:58:42.083Z"
   },
   {
    "duration": 9,
    "start_time": "2022-04-06T10:58:42.088Z"
   },
   {
    "duration": 5,
    "start_time": "2022-04-06T10:58:42.099Z"
   },
   {
    "duration": 9,
    "start_time": "2022-04-06T10:58:42.107Z"
   },
   {
    "duration": 6,
    "start_time": "2022-04-06T10:58:42.118Z"
   },
   {
    "duration": 41,
    "start_time": "2022-04-06T10:58:42.126Z"
   },
   {
    "duration": 3,
    "start_time": "2022-04-06T10:58:42.169Z"
   },
   {
    "duration": 6,
    "start_time": "2022-04-06T10:58:42.174Z"
   },
   {
    "duration": 6,
    "start_time": "2022-04-06T10:58:42.182Z"
   },
   {
    "duration": 6,
    "start_time": "2022-04-06T10:58:42.190Z"
   },
   {
    "duration": 6,
    "start_time": "2022-04-06T10:58:42.197Z"
   },
   {
    "duration": 20,
    "start_time": "2022-04-06T10:58:50.929Z"
   },
   {
    "duration": 19,
    "start_time": "2022-04-06T11:03:10.790Z"
   },
   {
    "duration": 18,
    "start_time": "2022-04-06T11:03:12.900Z"
   },
   {
    "duration": 19,
    "start_time": "2022-04-06T11:03:14.433Z"
   },
   {
    "duration": 18,
    "start_time": "2022-04-06T11:03:15.603Z"
   },
   {
    "duration": 21,
    "start_time": "2022-04-06T11:03:16.732Z"
   },
   {
    "duration": 18,
    "start_time": "2022-04-06T11:03:17.964Z"
   },
   {
    "duration": 87,
    "start_time": "2022-04-06T11:12:29.584Z"
   },
   {
    "duration": 10,
    "start_time": "2022-04-06T11:12:52.817Z"
   },
   {
    "duration": 11,
    "start_time": "2022-04-06T11:13:14.650Z"
   },
   {
    "duration": 10,
    "start_time": "2022-04-06T11:14:05.943Z"
   },
   {
    "duration": 14,
    "start_time": "2022-04-06T11:14:35.578Z"
   },
   {
    "duration": 10,
    "start_time": "2022-04-06T11:14:51.653Z"
   },
   {
    "duration": 13,
    "start_time": "2022-04-06T11:15:02.766Z"
   },
   {
    "duration": 14,
    "start_time": "2022-04-06T11:15:17.029Z"
   },
   {
    "duration": 12,
    "start_time": "2022-04-06T11:21:20.945Z"
   },
   {
    "duration": 11,
    "start_time": "2022-04-06T11:21:35.419Z"
   },
   {
    "duration": 12,
    "start_time": "2022-04-06T11:21:47.545Z"
   },
   {
    "duration": 11,
    "start_time": "2022-04-06T11:22:03.598Z"
   },
   {
    "duration": 7,
    "start_time": "2022-04-06T11:23:11.257Z"
   },
   {
    "duration": 13,
    "start_time": "2022-04-06T11:23:20.297Z"
   },
   {
    "duration": 13,
    "start_time": "2022-04-06T11:23:43.168Z"
   },
   {
    "duration": 14,
    "start_time": "2022-04-06T11:23:56.073Z"
   },
   {
    "duration": 15,
    "start_time": "2022-04-06T11:36:28.545Z"
   },
   {
    "duration": 14,
    "start_time": "2022-04-06T11:36:30.383Z"
   },
   {
    "duration": 17,
    "start_time": "2022-04-06T12:14:35.551Z"
   },
   {
    "duration": 6,
    "start_time": "2022-04-06T12:44:28.817Z"
   },
   {
    "duration": 23,
    "start_time": "2022-04-06T12:45:07.464Z"
   },
   {
    "duration": 41,
    "start_time": "2022-04-06T12:45:39.899Z"
   },
   {
    "duration": 24,
    "start_time": "2022-04-06T12:45:47.324Z"
   },
   {
    "duration": 552,
    "start_time": "2022-04-06T12:45:52.719Z"
   },
   {
    "duration": 198,
    "start_time": "2022-04-06T12:45:53.274Z"
   },
   {
    "duration": 27,
    "start_time": "2022-04-06T12:45:53.474Z"
   },
   {
    "duration": 68,
    "start_time": "2022-04-06T12:45:53.504Z"
   },
   {
    "duration": 10,
    "start_time": "2022-04-06T12:45:53.575Z"
   },
   {
    "duration": 20,
    "start_time": "2022-04-06T12:45:53.588Z"
   },
   {
    "duration": 10,
    "start_time": "2022-04-06T12:45:53.611Z"
   },
   {
    "duration": 74,
    "start_time": "2022-04-06T12:45:53.624Z"
   },
   {
    "duration": 40,
    "start_time": "2022-04-06T12:45:53.701Z"
   },
   {
    "duration": 73,
    "start_time": "2022-04-06T12:45:53.747Z"
   },
   {
    "duration": 154,
    "start_time": "2022-04-06T12:45:53.823Z"
   },
   {
    "duration": 154,
    "start_time": "2022-04-06T12:45:53.980Z"
   },
   {
    "duration": 148,
    "start_time": "2022-04-06T12:45:54.137Z"
   },
   {
    "duration": 104,
    "start_time": "2022-04-06T12:45:54.288Z"
   },
   {
    "duration": 6,
    "start_time": "2022-04-06T12:45:54.395Z"
   },
   {
    "duration": 74,
    "start_time": "2022-04-06T12:45:54.404Z"
   },
   {
    "duration": 99,
    "start_time": "2022-04-06T12:45:54.481Z"
   },
   {
    "duration": 12,
    "start_time": "2022-04-06T12:45:54.584Z"
   },
   {
    "duration": 16,
    "start_time": "2022-04-06T12:45:54.599Z"
   },
   {
    "duration": 7,
    "start_time": "2022-04-06T12:45:54.617Z"
   },
   {
    "duration": 64,
    "start_time": "2022-04-06T12:45:54.626Z"
   },
   {
    "duration": 21,
    "start_time": "2022-04-06T12:45:54.693Z"
   },
   {
    "duration": 64,
    "start_time": "2022-04-06T12:45:54.717Z"
   },
   {
    "duration": 18,
    "start_time": "2022-04-06T12:45:54.783Z"
   },
   {
    "duration": 20,
    "start_time": "2022-04-06T12:45:54.803Z"
   },
   {
    "duration": 52,
    "start_time": "2022-04-06T12:45:54.826Z"
   },
   {
    "duration": 13,
    "start_time": "2022-04-06T12:45:54.881Z"
   },
   {
    "duration": 16,
    "start_time": "2022-04-06T12:45:54.899Z"
   },
   {
    "duration": 53,
    "start_time": "2022-04-06T12:45:54.917Z"
   },
   {
    "duration": 5,
    "start_time": "2022-04-06T12:45:54.973Z"
   },
   {
    "duration": 130,
    "start_time": "2022-04-06T12:45:54.980Z"
   },
   {
    "duration": 0,
    "start_time": "2022-04-06T12:45:55.113Z"
   },
   {
    "duration": 0,
    "start_time": "2022-04-06T12:45:55.114Z"
   },
   {
    "duration": 0,
    "start_time": "2022-04-06T12:45:55.116Z"
   },
   {
    "duration": 0,
    "start_time": "2022-04-06T12:45:55.117Z"
   },
   {
    "duration": 0,
    "start_time": "2022-04-06T12:45:55.118Z"
   },
   {
    "duration": 0,
    "start_time": "2022-04-06T12:45:55.119Z"
   },
   {
    "duration": 0,
    "start_time": "2022-04-06T12:45:55.121Z"
   },
   {
    "duration": 20,
    "start_time": "2022-04-06T12:46:46.075Z"
   },
   {
    "duration": 6,
    "start_time": "2022-04-06T12:48:16.221Z"
   },
   {
    "duration": 6,
    "start_time": "2022-04-06T12:50:49.515Z"
   },
   {
    "duration": 32,
    "start_time": "2022-04-06T12:50:52.512Z"
   },
   {
    "duration": 107,
    "start_time": "2022-04-06T12:52:18.348Z"
   },
   {
    "duration": 6,
    "start_time": "2022-04-06T12:52:27.104Z"
   },
   {
    "duration": 52,
    "start_time": "2022-04-06T12:52:29.941Z"
   },
   {
    "duration": 8,
    "start_time": "2022-04-06T12:52:53.360Z"
   },
   {
    "duration": 5,
    "start_time": "2022-04-06T12:52:55.839Z"
   },
   {
    "duration": 31,
    "start_time": "2022-04-06T12:52:57.278Z"
   },
   {
    "duration": 8,
    "start_time": "2022-04-06T12:53:15.884Z"
   },
   {
    "duration": 36,
    "start_time": "2022-04-06T12:53:17.866Z"
   },
   {
    "duration": 5,
    "start_time": "2022-04-06T12:55:19.827Z"
   },
   {
    "duration": 1586,
    "start_time": "2022-04-06T12:55:22.179Z"
   },
   {
    "duration": 6,
    "start_time": "2022-04-06T12:55:38.746Z"
   },
   {
    "duration": 31,
    "start_time": "2022-04-06T12:55:42.281Z"
   },
   {
    "duration": 6,
    "start_time": "2022-04-06T12:56:28.614Z"
   },
   {
    "duration": 32,
    "start_time": "2022-04-06T12:56:36.180Z"
   },
   {
    "duration": 8,
    "start_time": "2022-04-06T12:56:58.744Z"
   },
   {
    "duration": 33,
    "start_time": "2022-04-06T12:57:01.775Z"
   },
   {
    "duration": 6,
    "start_time": "2022-04-06T12:57:15.798Z"
   },
   {
    "duration": 30,
    "start_time": "2022-04-06T12:57:17.937Z"
   },
   {
    "duration": 22,
    "start_time": "2022-04-06T12:59:05.149Z"
   },
   {
    "duration": 31,
    "start_time": "2022-04-06T12:59:12.836Z"
   },
   {
    "duration": 25,
    "start_time": "2022-04-06T12:59:15.490Z"
   },
   {
    "duration": 511,
    "start_time": "2022-04-06T12:59:24.672Z"
   },
   {
    "duration": 266,
    "start_time": "2022-04-06T12:59:25.186Z"
   },
   {
    "duration": 39,
    "start_time": "2022-04-06T12:59:25.454Z"
   },
   {
    "duration": 82,
    "start_time": "2022-04-06T12:59:25.497Z"
   },
   {
    "duration": 7,
    "start_time": "2022-04-06T12:59:25.581Z"
   },
   {
    "duration": 18,
    "start_time": "2022-04-06T12:59:25.590Z"
   },
   {
    "duration": 8,
    "start_time": "2022-04-06T12:59:25.611Z"
   },
   {
    "duration": 91,
    "start_time": "2022-04-06T12:59:25.621Z"
   },
   {
    "duration": 29,
    "start_time": "2022-04-06T12:59:25.714Z"
   },
   {
    "duration": 33,
    "start_time": "2022-04-06T12:59:25.768Z"
   },
   {
    "duration": 122,
    "start_time": "2022-04-06T12:59:25.803Z"
   },
   {
    "duration": 116,
    "start_time": "2022-04-06T12:59:25.927Z"
   },
   {
    "duration": 97,
    "start_time": "2022-04-06T12:59:26.045Z"
   },
   {
    "duration": 60,
    "start_time": "2022-04-06T12:59:26.145Z"
   },
   {
    "duration": 4,
    "start_time": "2022-04-06T12:59:26.208Z"
   },
   {
    "duration": 63,
    "start_time": "2022-04-06T12:59:26.214Z"
   },
   {
    "duration": 54,
    "start_time": "2022-04-06T12:59:26.279Z"
   },
   {
    "duration": 34,
    "start_time": "2022-04-06T12:59:26.335Z"
   },
   {
    "duration": 13,
    "start_time": "2022-04-06T12:59:26.371Z"
   },
   {
    "duration": 6,
    "start_time": "2022-04-06T12:59:26.387Z"
   },
   {
    "duration": 27,
    "start_time": "2022-04-06T12:59:26.395Z"
   },
   {
    "duration": 49,
    "start_time": "2022-04-06T12:59:26.424Z"
   },
   {
    "duration": 18,
    "start_time": "2022-04-06T12:59:26.476Z"
   },
   {
    "duration": 17,
    "start_time": "2022-04-06T12:59:26.497Z"
   },
   {
    "duration": 68,
    "start_time": "2022-04-06T12:59:26.517Z"
   },
   {
    "duration": 25,
    "start_time": "2022-04-06T12:59:26.588Z"
   },
   {
    "duration": 17,
    "start_time": "2022-04-06T12:59:26.615Z"
   },
   {
    "duration": 20,
    "start_time": "2022-04-06T12:59:26.672Z"
   },
   {
    "duration": 15,
    "start_time": "2022-04-06T12:59:26.695Z"
   },
   {
    "duration": 6,
    "start_time": "2022-04-06T12:59:26.712Z"
   },
   {
    "duration": 73,
    "start_time": "2022-04-06T12:59:26.721Z"
   },
   {
    "duration": 23,
    "start_time": "2022-04-06T12:59:26.797Z"
   },
   {
    "duration": 62,
    "start_time": "2022-04-06T12:59:26.823Z"
   },
   {
    "duration": 30,
    "start_time": "2022-04-06T12:59:26.887Z"
   },
   {
    "duration": 4,
    "start_time": "2022-04-06T12:59:26.920Z"
   },
   {
    "duration": 42,
    "start_time": "2022-04-06T12:59:26.927Z"
   },
   {
    "duration": 7,
    "start_time": "2022-04-06T12:59:26.971Z"
   },
   {
    "duration": 6,
    "start_time": "2022-04-06T12:59:26.980Z"
   },
   {
    "duration": 130,
    "start_time": "2022-04-06T13:07:06.218Z"
   },
   {
    "duration": 41,
    "start_time": "2022-04-06T13:07:16.068Z"
   },
   {
    "duration": 15,
    "start_time": "2022-04-06T13:07:48.701Z"
   },
   {
    "duration": 42,
    "start_time": "2022-04-06T13:08:09.549Z"
   },
   {
    "duration": 34,
    "start_time": "2022-04-06T13:09:40.064Z"
   },
   {
    "duration": 12,
    "start_time": "2022-04-06T13:09:43.376Z"
   },
   {
    "duration": 21,
    "start_time": "2022-04-06T13:10:26.926Z"
   },
   {
    "duration": 12,
    "start_time": "2022-04-06T13:10:38.442Z"
   },
   {
    "duration": 421,
    "start_time": "2022-04-16T19:35:51.003Z"
   },
   {
    "duration": 136,
    "start_time": "2022-04-16T19:35:51.426Z"
   },
   {
    "duration": 16,
    "start_time": "2022-04-16T19:35:51.563Z"
   },
   {
    "duration": 23,
    "start_time": "2022-04-16T19:35:51.581Z"
   },
   {
    "duration": 21,
    "start_time": "2022-04-16T19:35:51.606Z"
   },
   {
    "duration": 10,
    "start_time": "2022-04-16T19:35:51.628Z"
   },
   {
    "duration": 6,
    "start_time": "2022-04-16T19:35:51.640Z"
   },
   {
    "duration": 38,
    "start_time": "2022-04-16T19:35:51.648Z"
   },
   {
    "duration": 50,
    "start_time": "2022-04-16T19:35:51.688Z"
   },
   {
    "duration": 22,
    "start_time": "2022-04-16T19:35:51.741Z"
   },
   {
    "duration": 74,
    "start_time": "2022-04-16T19:35:51.765Z"
   },
   {
    "duration": 61,
    "start_time": "2022-04-16T19:35:51.841Z"
   },
   {
    "duration": 69,
    "start_time": "2022-04-16T19:35:51.904Z"
   },
   {
    "duration": 50,
    "start_time": "2022-04-16T19:35:51.975Z"
   },
   {
    "duration": 3,
    "start_time": "2022-04-16T19:35:52.027Z"
   },
   {
    "duration": 21,
    "start_time": "2022-04-16T19:35:52.032Z"
   },
   {
    "duration": 33,
    "start_time": "2022-04-16T19:35:52.055Z"
   },
   {
    "duration": 9,
    "start_time": "2022-04-16T19:35:52.089Z"
   },
   {
    "duration": 9,
    "start_time": "2022-04-16T19:35:52.124Z"
   },
   {
    "duration": 4,
    "start_time": "2022-04-16T19:35:52.135Z"
   },
   {
    "duration": 20,
    "start_time": "2022-04-16T19:35:52.141Z"
   },
   {
    "duration": 12,
    "start_time": "2022-04-16T19:35:52.163Z"
   },
   {
    "duration": 13,
    "start_time": "2022-04-16T19:35:52.177Z"
   },
   {
    "duration": 36,
    "start_time": "2022-04-16T19:35:52.192Z"
   },
   {
    "duration": 14,
    "start_time": "2022-04-16T19:35:52.229Z"
   },
   {
    "duration": 12,
    "start_time": "2022-04-16T19:35:52.245Z"
   },
   {
    "duration": 8,
    "start_time": "2022-04-16T19:35:52.258Z"
   },
   {
    "duration": 11,
    "start_time": "2022-04-16T19:35:52.269Z"
   },
   {
    "duration": 49,
    "start_time": "2022-04-16T19:35:52.281Z"
   },
   {
    "duration": 4,
    "start_time": "2022-04-16T19:35:52.332Z"
   },
   {
    "duration": 24,
    "start_time": "2022-04-16T19:35:52.337Z"
   },
   {
    "duration": 63,
    "start_time": "2022-04-16T19:35:52.362Z"
   },
   {
    "duration": 20,
    "start_time": "2022-04-16T19:35:52.427Z"
   },
   {
    "duration": 15,
    "start_time": "2022-04-16T19:35:52.448Z"
   },
   {
    "duration": 74,
    "start_time": "2022-04-16T19:35:52.464Z"
   },
   {
    "duration": 7,
    "start_time": "2022-04-16T19:35:52.540Z"
   },
   {
    "duration": 14,
    "start_time": "2022-04-16T19:35:52.548Z"
   },
   {
    "duration": 7,
    "start_time": "2022-04-16T19:35:52.564Z"
   },
   {
    "duration": 401,
    "start_time": "2022-04-16T19:38:25.489Z"
   },
   {
    "duration": 133,
    "start_time": "2022-04-16T19:38:25.892Z"
   },
   {
    "duration": 20,
    "start_time": "2022-04-16T19:38:26.027Z"
   },
   {
    "duration": 40,
    "start_time": "2022-04-16T19:38:26.049Z"
   },
   {
    "duration": 4,
    "start_time": "2022-04-16T19:38:26.090Z"
   },
   {
    "duration": 9,
    "start_time": "2022-04-16T19:38:26.095Z"
   },
   {
    "duration": 20,
    "start_time": "2022-04-16T19:38:26.105Z"
   },
   {
    "duration": 21,
    "start_time": "2022-04-16T19:38:26.127Z"
   },
   {
    "duration": 15,
    "start_time": "2022-04-16T19:38:26.149Z"
   },
   {
    "duration": 21,
    "start_time": "2022-04-16T19:38:26.167Z"
   },
   {
    "duration": 76,
    "start_time": "2022-04-16T19:38:26.190Z"
   },
   {
    "duration": 64,
    "start_time": "2022-04-16T19:38:26.268Z"
   },
   {
    "duration": 54,
    "start_time": "2022-04-16T19:38:26.334Z"
   },
   {
    "duration": 45,
    "start_time": "2022-04-16T19:38:26.389Z"
   },
   {
    "duration": 3,
    "start_time": "2022-04-16T19:38:26.435Z"
   },
   {
    "duration": 20,
    "start_time": "2022-04-16T19:38:26.439Z"
   },
   {
    "duration": 30,
    "start_time": "2022-04-16T19:38:26.460Z"
   },
   {
    "duration": 7,
    "start_time": "2022-04-16T19:38:26.492Z"
   },
   {
    "duration": 25,
    "start_time": "2022-04-16T19:38:26.501Z"
   },
   {
    "duration": 4,
    "start_time": "2022-04-16T19:38:26.528Z"
   },
   {
    "duration": 18,
    "start_time": "2022-04-16T19:38:26.533Z"
   },
   {
    "duration": 11,
    "start_time": "2022-04-16T19:38:26.552Z"
   },
   {
    "duration": 13,
    "start_time": "2022-04-16T19:38:26.564Z"
   },
   {
    "duration": 11,
    "start_time": "2022-04-16T19:38:26.578Z"
   },
   {
    "duration": 42,
    "start_time": "2022-04-16T19:38:26.591Z"
   },
   {
    "duration": 11,
    "start_time": "2022-04-16T19:38:26.635Z"
   },
   {
    "duration": 8,
    "start_time": "2022-04-16T19:38:26.647Z"
   },
   {
    "duration": 8,
    "start_time": "2022-04-16T19:38:26.658Z"
   },
   {
    "duration": 8,
    "start_time": "2022-04-16T19:38:26.668Z"
   },
   {
    "duration": 4,
    "start_time": "2022-04-16T19:38:26.677Z"
   },
   {
    "duration": 45,
    "start_time": "2022-04-16T19:38:26.682Z"
   },
   {
    "duration": 10,
    "start_time": "2022-04-16T19:38:26.729Z"
   },
   {
    "duration": 15,
    "start_time": "2022-04-16T19:38:26.741Z"
   },
   {
    "duration": 9,
    "start_time": "2022-04-16T19:38:26.757Z"
   },
   {
    "duration": 21,
    "start_time": "2022-04-16T19:38:26.767Z"
   },
   {
    "duration": 34,
    "start_time": "2022-04-16T19:38:26.789Z"
   },
   {
    "duration": 13,
    "start_time": "2022-04-16T19:38:26.825Z"
   },
   {
    "duration": 7,
    "start_time": "2022-04-16T19:38:26.839Z"
   },
   {
    "duration": 4,
    "start_time": "2022-04-16T19:38:37.904Z"
   },
   {
    "duration": 365,
    "start_time": "2022-04-16T19:38:41.340Z"
   },
   {
    "duration": 127,
    "start_time": "2022-04-16T19:38:41.706Z"
   },
   {
    "duration": 18,
    "start_time": "2022-04-16T19:38:41.835Z"
   },
   {
    "duration": 27,
    "start_time": "2022-04-16T19:38:41.855Z"
   },
   {
    "duration": 3,
    "start_time": "2022-04-16T19:38:41.883Z"
   },
   {
    "duration": 9,
    "start_time": "2022-04-16T19:38:41.888Z"
   },
   {
    "duration": 25,
    "start_time": "2022-04-16T19:38:41.899Z"
   },
   {
    "duration": 22,
    "start_time": "2022-04-16T19:38:41.926Z"
   },
   {
    "duration": 18,
    "start_time": "2022-04-16T19:38:41.949Z"
   },
   {
    "duration": 19,
    "start_time": "2022-04-16T19:38:41.969Z"
   },
   {
    "duration": 83,
    "start_time": "2022-04-16T19:38:41.990Z"
   },
   {
    "duration": 68,
    "start_time": "2022-04-16T19:38:42.075Z"
   },
   {
    "duration": 53,
    "start_time": "2022-04-16T19:38:42.145Z"
   },
   {
    "duration": 41,
    "start_time": "2022-04-16T19:38:42.200Z"
   },
   {
    "duration": 3,
    "start_time": "2022-04-16T19:38:42.242Z"
   },
   {
    "duration": 21,
    "start_time": "2022-04-16T19:38:42.246Z"
   },
   {
    "duration": 55,
    "start_time": "2022-04-16T19:38:42.269Z"
   },
   {
    "duration": 13,
    "start_time": "2022-04-16T19:38:42.326Z"
   },
   {
    "duration": 14,
    "start_time": "2022-04-16T19:38:42.341Z"
   },
   {
    "duration": 5,
    "start_time": "2022-04-16T19:38:42.357Z"
   },
   {
    "duration": 65,
    "start_time": "2022-04-16T19:38:42.364Z"
   },
   {
    "duration": 12,
    "start_time": "2022-04-16T19:38:42.430Z"
   },
   {
    "duration": 14,
    "start_time": "2022-04-16T19:38:42.444Z"
   },
   {
    "duration": 64,
    "start_time": "2022-04-16T19:38:42.460Z"
   },
   {
    "duration": 14,
    "start_time": "2022-04-16T19:38:42.526Z"
   },
   {
    "duration": 12,
    "start_time": "2022-04-16T19:38:42.542Z"
   },
   {
    "duration": 8,
    "start_time": "2022-04-16T19:38:42.555Z"
   },
   {
    "duration": 63,
    "start_time": "2022-04-16T19:38:42.566Z"
   },
   {
    "duration": 8,
    "start_time": "2022-04-16T19:38:42.631Z"
   },
   {
    "duration": 4,
    "start_time": "2022-04-16T19:38:42.641Z"
   },
   {
    "duration": 78,
    "start_time": "2022-04-16T19:38:42.646Z"
   },
   {
    "duration": 19,
    "start_time": "2022-04-16T19:38:42.725Z"
   },
   {
    "duration": 21,
    "start_time": "2022-04-16T19:38:42.745Z"
   },
   {
    "duration": 16,
    "start_time": "2022-04-16T19:38:42.823Z"
   },
   {
    "duration": 21,
    "start_time": "2022-04-16T19:38:42.841Z"
   },
   {
    "duration": 6,
    "start_time": "2022-04-16T19:38:42.864Z"
   },
   {
    "duration": 14,
    "start_time": "2022-04-16T19:38:42.923Z"
   },
   {
    "duration": 9,
    "start_time": "2022-04-16T19:38:42.939Z"
   },
   {
    "duration": 8,
    "start_time": "2022-04-17T14:42:39.373Z"
   },
   {
    "duration": 405,
    "start_time": "2022-04-17T14:43:14.024Z"
   },
   {
    "duration": 314,
    "start_time": "2022-04-17T14:43:14.431Z"
   },
   {
    "duration": 17,
    "start_time": "2022-04-17T14:43:14.747Z"
   },
   {
    "duration": 31,
    "start_time": "2022-04-17T14:43:14.765Z"
   },
   {
    "duration": 13,
    "start_time": "2022-04-17T14:43:14.797Z"
   },
   {
    "duration": 12,
    "start_time": "2022-04-17T14:43:14.812Z"
   },
   {
    "duration": 6,
    "start_time": "2022-04-17T14:43:14.825Z"
   },
   {
    "duration": 28,
    "start_time": "2022-04-17T14:43:14.833Z"
   },
   {
    "duration": 48,
    "start_time": "2022-04-17T14:43:14.863Z"
   },
   {
    "duration": 24,
    "start_time": "2022-04-17T14:43:14.914Z"
   },
   {
    "duration": 83,
    "start_time": "2022-04-17T14:43:14.940Z"
   },
   {
    "duration": 82,
    "start_time": "2022-04-17T14:43:15.025Z"
   },
   {
    "duration": 63,
    "start_time": "2022-04-17T14:43:15.109Z"
   },
   {
    "duration": 56,
    "start_time": "2022-04-17T14:43:15.173Z"
   },
   {
    "duration": 3,
    "start_time": "2022-04-17T14:43:15.230Z"
   },
   {
    "duration": 15,
    "start_time": "2022-04-17T14:43:15.235Z"
   },
   {
    "duration": 58,
    "start_time": "2022-04-17T14:43:15.251Z"
   },
   {
    "duration": 9,
    "start_time": "2022-04-17T14:43:15.311Z"
   },
   {
    "duration": 10,
    "start_time": "2022-04-17T14:43:15.322Z"
   },
   {
    "duration": 4,
    "start_time": "2022-04-17T14:43:15.333Z"
   },
   {
    "duration": 19,
    "start_time": "2022-04-17T14:43:15.339Z"
   },
   {
    "duration": 13,
    "start_time": "2022-04-17T14:43:15.359Z"
   },
   {
    "duration": 15,
    "start_time": "2022-04-17T14:43:15.407Z"
   },
   {
    "duration": 13,
    "start_time": "2022-04-17T14:43:15.423Z"
   },
   {
    "duration": 15,
    "start_time": "2022-04-17T14:43:15.437Z"
   },
   {
    "duration": 12,
    "start_time": "2022-04-17T14:43:15.454Z"
   },
   {
    "duration": 46,
    "start_time": "2022-04-17T14:43:15.468Z"
   },
   {
    "duration": 11,
    "start_time": "2022-04-17T14:43:15.517Z"
   },
   {
    "duration": 9,
    "start_time": "2022-04-17T14:43:15.529Z"
   },
   {
    "duration": 4,
    "start_time": "2022-04-17T14:43:15.540Z"
   },
   {
    "duration": 60,
    "start_time": "2022-04-17T14:43:15.546Z"
   },
   {
    "duration": 16,
    "start_time": "2022-04-17T14:43:15.608Z"
   },
   {
    "duration": 21,
    "start_time": "2022-04-17T14:43:15.626Z"
   },
   {
    "duration": 15,
    "start_time": "2022-04-17T14:43:15.649Z"
   },
   {
    "duration": 58,
    "start_time": "2022-04-17T14:43:15.665Z"
   },
   {
    "duration": 7,
    "start_time": "2022-04-17T14:43:15.725Z"
   },
   {
    "duration": 15,
    "start_time": "2022-04-17T14:43:15.734Z"
   },
   {
    "duration": 8,
    "start_time": "2022-04-17T14:43:15.751Z"
   },
   {
    "duration": 48,
    "start_time": "2022-04-18T14:28:48.205Z"
   },
   {
    "duration": 434,
    "start_time": "2022-04-18T14:29:13.025Z"
   },
   {
    "duration": 174,
    "start_time": "2022-04-18T14:29:13.461Z"
   },
   {
    "duration": 19,
    "start_time": "2022-04-18T14:29:13.637Z"
   },
   {
    "duration": 40,
    "start_time": "2022-04-18T14:29:13.658Z"
   },
   {
    "duration": 5,
    "start_time": "2022-04-18T14:29:13.700Z"
   },
   {
    "duration": 14,
    "start_time": "2022-04-18T14:29:13.706Z"
   },
   {
    "duration": 11,
    "start_time": "2022-04-18T14:29:13.722Z"
   },
   {
    "duration": 51,
    "start_time": "2022-04-18T14:29:13.735Z"
   },
   {
    "duration": 22,
    "start_time": "2022-04-18T14:29:13.788Z"
   },
   {
    "duration": 27,
    "start_time": "2022-04-18T14:29:13.812Z"
   },
   {
    "duration": 93,
    "start_time": "2022-04-18T14:29:13.841Z"
   },
   {
    "duration": 92,
    "start_time": "2022-04-18T14:29:13.935Z"
   },
   {
    "duration": 76,
    "start_time": "2022-04-18T14:29:14.029Z"
   },
   {
    "duration": 40,
    "start_time": "2022-04-18T14:29:14.106Z"
   },
   {
    "duration": 3,
    "start_time": "2022-04-18T14:29:14.148Z"
   },
   {
    "duration": 14,
    "start_time": "2022-04-18T14:29:14.172Z"
   },
   {
    "duration": 38,
    "start_time": "2022-04-18T14:29:14.188Z"
   },
   {
    "duration": 61,
    "start_time": "2022-04-18T14:29:14.228Z"
   },
   {
    "duration": 10,
    "start_time": "2022-04-18T14:29:14.291Z"
   },
   {
    "duration": 6,
    "start_time": "2022-04-18T14:29:14.302Z"
   },
   {
    "duration": 22,
    "start_time": "2022-04-18T14:29:14.310Z"
   },
   {
    "duration": 15,
    "start_time": "2022-04-18T14:29:14.333Z"
   },
   {
    "duration": 40,
    "start_time": "2022-04-18T14:29:14.349Z"
   },
   {
    "duration": 15,
    "start_time": "2022-04-18T14:29:14.391Z"
   },
   {
    "duration": 17,
    "start_time": "2022-04-18T14:29:14.408Z"
   },
   {
    "duration": 15,
    "start_time": "2022-04-18T14:29:14.427Z"
   },
   {
    "duration": 37,
    "start_time": "2022-04-18T14:29:14.444Z"
   },
   {
    "duration": 16,
    "start_time": "2022-04-18T14:29:14.484Z"
   },
   {
    "duration": 11,
    "start_time": "2022-04-18T14:29:14.502Z"
   },
   {
    "duration": 4,
    "start_time": "2022-04-18T14:29:14.515Z"
   },
   {
    "duration": 52,
    "start_time": "2022-04-18T14:29:14.521Z"
   },
   {
    "duration": 19,
    "start_time": "2022-04-18T14:29:14.575Z"
   },
   {
    "duration": 24,
    "start_time": "2022-04-18T14:29:14.595Z"
   },
   {
    "duration": 18,
    "start_time": "2022-04-18T14:29:14.621Z"
   },
   {
    "duration": 56,
    "start_time": "2022-04-18T14:29:14.641Z"
   },
   {
    "duration": 9,
    "start_time": "2022-04-18T14:29:14.699Z"
   },
   {
    "duration": 25,
    "start_time": "2022-04-18T14:29:14.710Z"
   },
   {
    "duration": 9,
    "start_time": "2022-04-18T14:29:14.736Z"
   },
   {
    "duration": 43,
    "start_time": "2022-04-18T14:29:45.182Z"
   },
   {
    "duration": 40,
    "start_time": "2022-04-18T14:30:05.486Z"
   },
   {
    "duration": 50,
    "start_time": "2022-04-18T14:30:11.352Z"
   },
   {
    "duration": 4,
    "start_time": "2022-04-18T14:32:04.991Z"
   },
   {
    "duration": 35,
    "start_time": "2022-04-18T14:32:13.825Z"
   },
   {
    "duration": 35,
    "start_time": "2022-04-18T14:33:16.655Z"
   },
   {
    "duration": 8,
    "start_time": "2022-04-18T14:44:52.275Z"
   },
   {
    "duration": 418,
    "start_time": "2022-04-18T14:45:03.892Z"
   },
   {
    "duration": 170,
    "start_time": "2022-04-18T14:45:04.312Z"
   },
   {
    "duration": 18,
    "start_time": "2022-04-18T14:45:04.484Z"
   },
   {
    "duration": 32,
    "start_time": "2022-04-18T14:45:04.504Z"
   },
   {
    "duration": 4,
    "start_time": "2022-04-18T14:45:04.538Z"
   },
   {
    "duration": 38,
    "start_time": "2022-04-18T14:45:04.543Z"
   },
   {
    "duration": 9,
    "start_time": "2022-04-18T14:45:04.582Z"
   },
   {
    "duration": 29,
    "start_time": "2022-04-18T14:45:04.593Z"
   },
   {
    "duration": 24,
    "start_time": "2022-04-18T14:45:04.624Z"
   },
   {
    "duration": 39,
    "start_time": "2022-04-18T14:45:04.651Z"
   },
   {
    "duration": 82,
    "start_time": "2022-04-18T14:45:04.692Z"
   },
   {
    "duration": 78,
    "start_time": "2022-04-18T14:45:04.776Z"
   },
   {
    "duration": 78,
    "start_time": "2022-04-18T14:45:04.856Z"
   },
   {
    "duration": 54,
    "start_time": "2022-04-18T14:45:04.935Z"
   },
   {
    "duration": 5,
    "start_time": "2022-04-18T14:45:04.991Z"
   },
   {
    "duration": 16,
    "start_time": "2022-04-18T14:45:04.998Z"
   },
   {
    "duration": 61,
    "start_time": "2022-04-18T14:45:05.016Z"
   },
   {
    "duration": 40,
    "start_time": "2022-04-18T14:45:05.080Z"
   },
   {
    "duration": 87,
    "start_time": "2022-04-18T14:45:05.123Z"
   },
   {
    "duration": 0,
    "start_time": "2022-04-18T14:45:05.212Z"
   },
   {
    "duration": 0,
    "start_time": "2022-04-18T14:45:05.214Z"
   },
   {
    "duration": 0,
    "start_time": "2022-04-18T14:45:05.216Z"
   },
   {
    "duration": 0,
    "start_time": "2022-04-18T14:45:05.217Z"
   },
   {
    "duration": 0,
    "start_time": "2022-04-18T14:45:05.218Z"
   },
   {
    "duration": 0,
    "start_time": "2022-04-18T14:45:05.219Z"
   },
   {
    "duration": 0,
    "start_time": "2022-04-18T14:45:05.220Z"
   },
   {
    "duration": 0,
    "start_time": "2022-04-18T14:45:05.222Z"
   },
   {
    "duration": 0,
    "start_time": "2022-04-18T14:45:05.223Z"
   },
   {
    "duration": 0,
    "start_time": "2022-04-18T14:45:05.224Z"
   },
   {
    "duration": 0,
    "start_time": "2022-04-18T14:45:05.225Z"
   },
   {
    "duration": 0,
    "start_time": "2022-04-18T14:45:05.226Z"
   },
   {
    "duration": 0,
    "start_time": "2022-04-18T14:45:05.227Z"
   },
   {
    "duration": 0,
    "start_time": "2022-04-18T14:45:05.228Z"
   },
   {
    "duration": 0,
    "start_time": "2022-04-18T14:45:05.229Z"
   },
   {
    "duration": 0,
    "start_time": "2022-04-18T14:45:05.230Z"
   },
   {
    "duration": 0,
    "start_time": "2022-04-18T14:45:05.231Z"
   },
   {
    "duration": 0,
    "start_time": "2022-04-18T14:45:05.232Z"
   },
   {
    "duration": 0,
    "start_time": "2022-04-18T14:45:05.273Z"
   },
   {
    "duration": 7,
    "start_time": "2022-04-18T14:45:24.902Z"
   },
   {
    "duration": 37,
    "start_time": "2022-04-18T14:46:34.878Z"
   },
   {
    "duration": 35,
    "start_time": "2022-04-18T14:46:53.621Z"
   },
   {
    "duration": 39,
    "start_time": "2022-04-18T14:47:00.859Z"
   },
   {
    "duration": 36,
    "start_time": "2022-04-18T14:47:07.123Z"
   },
   {
    "duration": 4,
    "start_time": "2022-04-18T14:47:23.752Z"
   },
   {
    "duration": 16,
    "start_time": "2022-04-18T14:47:29.512Z"
   },
   {
    "duration": 366,
    "start_time": "2022-04-18T14:47:35.722Z"
   },
   {
    "duration": 163,
    "start_time": "2022-04-18T14:47:36.091Z"
   },
   {
    "duration": 18,
    "start_time": "2022-04-18T14:47:36.256Z"
   },
   {
    "duration": 31,
    "start_time": "2022-04-18T14:47:36.276Z"
   },
   {
    "duration": 4,
    "start_time": "2022-04-18T14:47:36.309Z"
   },
   {
    "duration": 15,
    "start_time": "2022-04-18T14:47:36.314Z"
   },
   {
    "duration": 9,
    "start_time": "2022-04-18T14:47:36.330Z"
   },
   {
    "duration": 50,
    "start_time": "2022-04-18T14:47:36.340Z"
   },
   {
    "duration": 21,
    "start_time": "2022-04-18T14:47:36.392Z"
   },
   {
    "duration": 25,
    "start_time": "2022-04-18T14:47:36.416Z"
   },
   {
    "duration": 89,
    "start_time": "2022-04-18T14:47:36.443Z"
   },
   {
    "duration": 82,
    "start_time": "2022-04-18T14:47:36.533Z"
   },
   {
    "duration": 73,
    "start_time": "2022-04-18T14:47:36.617Z"
   },
   {
    "duration": 38,
    "start_time": "2022-04-18T14:47:36.692Z"
   },
   {
    "duration": 3,
    "start_time": "2022-04-18T14:47:36.732Z"
   },
   {
    "duration": 14,
    "start_time": "2022-04-18T14:47:36.736Z"
   },
   {
    "duration": 55,
    "start_time": "2022-04-18T14:47:36.751Z"
   },
   {
    "duration": 38,
    "start_time": "2022-04-18T14:47:36.808Z"
   },
   {
    "duration": 47,
    "start_time": "2022-04-18T14:47:36.848Z"
   },
   {
    "duration": 4,
    "start_time": "2022-04-18T14:47:36.896Z"
   },
   {
    "duration": 24,
    "start_time": "2022-04-18T14:47:36.901Z"
   },
   {
    "duration": 13,
    "start_time": "2022-04-18T14:47:36.927Z"
   },
   {
    "duration": 34,
    "start_time": "2022-04-18T14:47:36.942Z"
   },
   {
    "duration": 14,
    "start_time": "2022-04-18T14:47:36.978Z"
   },
   {
    "duration": 16,
    "start_time": "2022-04-18T14:47:36.994Z"
   },
   {
    "duration": 14,
    "start_time": "2022-04-18T14:47:37.012Z"
   },
   {
    "duration": 14,
    "start_time": "2022-04-18T14:47:37.028Z"
   },
   {
    "duration": 38,
    "start_time": "2022-04-18T14:47:37.046Z"
   },
   {
    "duration": 10,
    "start_time": "2022-04-18T14:47:37.085Z"
   },
   {
    "duration": 4,
    "start_time": "2022-04-18T14:47:37.097Z"
   },
   {
    "duration": 28,
    "start_time": "2022-04-18T14:47:37.102Z"
   },
   {
    "duration": 22,
    "start_time": "2022-04-18T14:47:37.132Z"
   },
   {
    "duration": 36,
    "start_time": "2022-04-18T14:47:37.156Z"
   },
   {
    "duration": 16,
    "start_time": "2022-04-18T14:47:37.194Z"
   },
   {
    "duration": 27,
    "start_time": "2022-04-18T14:47:37.211Z"
   },
   {
    "duration": 7,
    "start_time": "2022-04-18T14:47:37.240Z"
   },
   {
    "duration": 19,
    "start_time": "2022-04-18T14:47:37.274Z"
   },
   {
    "duration": 8,
    "start_time": "2022-04-18T14:47:37.295Z"
   },
   {
    "duration": 4,
    "start_time": "2022-04-18T14:51:52.701Z"
   },
   {
    "duration": 82,
    "start_time": "2022-04-18T14:51:55.678Z"
   },
   {
    "duration": 4,
    "start_time": "2022-04-18T14:52:20.038Z"
   },
   {
    "duration": 20,
    "start_time": "2022-04-18T14:52:23.821Z"
   },
   {
    "duration": 5,
    "start_time": "2022-04-18T14:52:57.158Z"
   },
   {
    "duration": 25,
    "start_time": "2022-04-18T14:53:00.474Z"
   },
   {
    "duration": 5,
    "start_time": "2022-04-18T14:53:38.605Z"
   },
   {
    "duration": 22,
    "start_time": "2022-04-18T14:53:40.908Z"
   },
   {
    "duration": 4,
    "start_time": "2022-04-18T14:54:07.998Z"
   },
   {
    "duration": 18,
    "start_time": "2022-04-18T14:54:10.580Z"
   },
   {
    "duration": 431,
    "start_time": "2022-04-18T14:54:49.358Z"
   },
   {
    "duration": 166,
    "start_time": "2022-04-18T14:54:49.792Z"
   },
   {
    "duration": 18,
    "start_time": "2022-04-18T14:54:49.960Z"
   },
   {
    "duration": 40,
    "start_time": "2022-04-18T14:54:49.981Z"
   },
   {
    "duration": 5,
    "start_time": "2022-04-18T14:54:50.023Z"
   },
   {
    "duration": 21,
    "start_time": "2022-04-18T14:54:50.029Z"
   },
   {
    "duration": 8,
    "start_time": "2022-04-18T14:54:50.052Z"
   },
   {
    "duration": 28,
    "start_time": "2022-04-18T14:54:50.073Z"
   },
   {
    "duration": 25,
    "start_time": "2022-04-18T14:54:50.103Z"
   },
   {
    "duration": 25,
    "start_time": "2022-04-18T14:54:50.131Z"
   },
   {
    "duration": 70,
    "start_time": "2022-04-18T14:54:50.174Z"
   },
   {
    "duration": 96,
    "start_time": "2022-04-18T14:54:50.246Z"
   },
   {
    "duration": 82,
    "start_time": "2022-04-18T14:54:50.344Z"
   },
   {
    "duration": 47,
    "start_time": "2022-04-18T14:54:50.427Z"
   },
   {
    "duration": 3,
    "start_time": "2022-04-18T14:54:50.475Z"
   },
   {
    "duration": 17,
    "start_time": "2022-04-18T14:54:50.480Z"
   },
   {
    "duration": 45,
    "start_time": "2022-04-18T14:54:50.499Z"
   },
   {
    "duration": 50,
    "start_time": "2022-04-18T14:54:50.545Z"
   },
   {
    "duration": 34,
    "start_time": "2022-04-18T14:54:50.597Z"
   },
   {
    "duration": 3,
    "start_time": "2022-04-18T14:54:50.633Z"
   },
   {
    "duration": 35,
    "start_time": "2022-04-18T14:54:50.638Z"
   },
   {
    "duration": 14,
    "start_time": "2022-04-18T14:54:50.675Z"
   },
   {
    "duration": 22,
    "start_time": "2022-04-18T14:54:50.691Z"
   },
   {
    "duration": 17,
    "start_time": "2022-04-18T14:54:50.714Z"
   },
   {
    "duration": 21,
    "start_time": "2022-04-18T14:54:50.732Z"
   },
   {
    "duration": 25,
    "start_time": "2022-04-18T14:54:50.755Z"
   },
   {
    "duration": 18,
    "start_time": "2022-04-18T14:54:50.782Z"
   },
   {
    "duration": 14,
    "start_time": "2022-04-18T14:54:50.803Z"
   },
   {
    "duration": 12,
    "start_time": "2022-04-18T14:54:50.818Z"
   },
   {
    "duration": 5,
    "start_time": "2022-04-18T14:54:50.832Z"
   },
   {
    "duration": 39,
    "start_time": "2022-04-18T14:54:50.838Z"
   },
   {
    "duration": 12,
    "start_time": "2022-04-18T14:54:50.879Z"
   },
   {
    "duration": 22,
    "start_time": "2022-04-18T14:54:50.892Z"
   },
   {
    "duration": 13,
    "start_time": "2022-04-18T14:54:50.915Z"
   },
   {
    "duration": 49,
    "start_time": "2022-04-18T14:54:50.930Z"
   },
   {
    "duration": 9,
    "start_time": "2022-04-18T14:54:50.981Z"
   },
   {
    "duration": 47,
    "start_time": "2022-04-18T14:54:50.992Z"
   },
   {
    "duration": 9,
    "start_time": "2022-04-18T14:54:51.040Z"
   },
   {
    "duration": 10,
    "start_time": "2022-04-18T14:55:14.885Z"
   },
   {
    "duration": 6,
    "start_time": "2022-04-18T14:55:17.404Z"
   },
   {
    "duration": 66,
    "start_time": "2022-04-18T14:56:11.508Z"
   },
   {
    "duration": 19,
    "start_time": "2022-04-18T14:56:36.044Z"
   },
   {
    "duration": 9,
    "start_time": "2022-04-18T14:56:39.389Z"
   },
   {
    "duration": 8,
    "start_time": "2022-04-18T14:56:52.338Z"
   },
   {
    "duration": 4,
    "start_time": "2022-04-18T14:56:56.108Z"
   },
   {
    "duration": 11,
    "start_time": "2022-04-18T14:57:05.524Z"
   },
   {
    "duration": 7,
    "start_time": "2022-04-18T14:57:15.554Z"
   },
   {
    "duration": 5,
    "start_time": "2022-04-18T14:57:17.553Z"
   },
   {
    "duration": 120,
    "start_time": "2022-04-18T14:58:21.714Z"
   },
   {
    "duration": 415,
    "start_time": "2022-04-18T14:59:47.772Z"
   },
   {
    "duration": 157,
    "start_time": "2022-04-18T14:59:48.189Z"
   },
   {
    "duration": 16,
    "start_time": "2022-04-18T14:59:48.348Z"
   },
   {
    "duration": 30,
    "start_time": "2022-04-18T14:59:48.372Z"
   },
   {
    "duration": 5,
    "start_time": "2022-04-18T14:59:48.404Z"
   },
   {
    "duration": 14,
    "start_time": "2022-04-18T14:59:48.410Z"
   },
   {
    "duration": 7,
    "start_time": "2022-04-18T14:59:48.426Z"
   },
   {
    "duration": 54,
    "start_time": "2022-04-18T14:59:48.434Z"
   },
   {
    "duration": 21,
    "start_time": "2022-04-18T14:59:48.490Z"
   },
   {
    "duration": 24,
    "start_time": "2022-04-18T14:59:48.514Z"
   },
   {
    "duration": 87,
    "start_time": "2022-04-18T14:59:48.540Z"
   },
   {
    "duration": 91,
    "start_time": "2022-04-18T14:59:48.628Z"
   },
   {
    "duration": 81,
    "start_time": "2022-04-18T14:59:48.720Z"
   },
   {
    "duration": 40,
    "start_time": "2022-04-18T14:59:48.802Z"
   },
   {
    "duration": 3,
    "start_time": "2022-04-18T14:59:48.844Z"
   },
   {
    "duration": 30,
    "start_time": "2022-04-18T14:59:48.849Z"
   },
   {
    "duration": 44,
    "start_time": "2022-04-18T14:59:48.881Z"
   },
   {
    "duration": 47,
    "start_time": "2022-04-18T14:59:48.927Z"
   },
   {
    "duration": 41,
    "start_time": "2022-04-18T14:59:48.976Z"
   },
   {
    "duration": 3,
    "start_time": "2022-04-18T14:59:49.019Z"
   },
   {
    "duration": 23,
    "start_time": "2022-04-18T14:59:49.024Z"
   },
   {
    "duration": 35,
    "start_time": "2022-04-18T14:59:49.049Z"
   },
   {
    "duration": 15,
    "start_time": "2022-04-18T14:59:49.086Z"
   },
   {
    "duration": 14,
    "start_time": "2022-04-18T14:59:49.104Z"
   },
   {
    "duration": 18,
    "start_time": "2022-04-18T14:59:49.120Z"
   },
   {
    "duration": 45,
    "start_time": "2022-04-18T14:59:49.139Z"
   },
   {
    "duration": 11,
    "start_time": "2022-04-18T14:59:49.186Z"
   },
   {
    "duration": 12,
    "start_time": "2022-04-18T14:59:49.201Z"
   },
   {
    "duration": 10,
    "start_time": "2022-04-18T14:59:49.215Z"
   },
   {
    "duration": 5,
    "start_time": "2022-04-18T14:59:49.227Z"
   },
   {
    "duration": 51,
    "start_time": "2022-04-18T14:59:49.234Z"
   },
   {
    "duration": 12,
    "start_time": "2022-04-18T14:59:49.287Z"
   },
   {
    "duration": 17,
    "start_time": "2022-04-18T14:59:49.301Z"
   },
   {
    "duration": 12,
    "start_time": "2022-04-18T14:59:49.320Z"
   },
   {
    "duration": 44,
    "start_time": "2022-04-18T14:59:49.334Z"
   },
   {
    "duration": 5,
    "start_time": "2022-04-18T14:59:49.380Z"
   },
   {
    "duration": 10,
    "start_time": "2022-04-18T14:59:49.387Z"
   },
   {
    "duration": 9,
    "start_time": "2022-04-18T14:59:49.398Z"
   },
   {
    "duration": 436,
    "start_time": "2022-04-18T21:03:50.137Z"
   },
   {
    "duration": 286,
    "start_time": "2022-04-18T21:03:50.576Z"
   },
   {
    "duration": 19,
    "start_time": "2022-04-18T21:03:50.864Z"
   },
   {
    "duration": 47,
    "start_time": "2022-04-18T21:03:50.893Z"
   },
   {
    "duration": 6,
    "start_time": "2022-04-18T21:03:50.942Z"
   },
   {
    "duration": 13,
    "start_time": "2022-04-18T21:03:50.949Z"
   },
   {
    "duration": 31,
    "start_time": "2022-04-18T21:03:50.964Z"
   },
   {
    "duration": 39,
    "start_time": "2022-04-18T21:03:50.997Z"
   },
   {
    "duration": 22,
    "start_time": "2022-04-18T21:03:51.038Z"
   },
   {
    "duration": 63,
    "start_time": "2022-04-18T21:03:51.064Z"
   },
   {
    "duration": 99,
    "start_time": "2022-04-18T21:03:51.129Z"
   },
   {
    "duration": 97,
    "start_time": "2022-04-18T21:03:51.229Z"
   },
   {
    "duration": 86,
    "start_time": "2022-04-18T21:03:51.328Z"
   },
   {
    "duration": 46,
    "start_time": "2022-04-18T21:03:51.417Z"
   },
   {
    "duration": 3,
    "start_time": "2022-04-18T21:03:51.465Z"
   },
   {
    "duration": 37,
    "start_time": "2022-04-18T21:03:51.470Z"
   },
   {
    "duration": 58,
    "start_time": "2022-04-18T21:03:51.509Z"
   },
   {
    "duration": 13,
    "start_time": "2022-04-18T21:03:51.569Z"
   },
   {
    "duration": 56,
    "start_time": "2022-04-18T21:03:51.584Z"
   },
   {
    "duration": 4,
    "start_time": "2022-04-18T21:03:51.641Z"
   },
   {
    "duration": 21,
    "start_time": "2022-04-18T21:03:51.647Z"
   },
   {
    "duration": 36,
    "start_time": "2022-04-18T21:03:51.669Z"
   },
   {
    "duration": 28,
    "start_time": "2022-04-18T21:03:51.708Z"
   },
   {
    "duration": 15,
    "start_time": "2022-04-18T21:03:51.738Z"
   },
   {
    "duration": 17,
    "start_time": "2022-04-18T21:03:51.755Z"
   },
   {
    "duration": 45,
    "start_time": "2022-04-18T21:03:51.774Z"
   },
   {
    "duration": 14,
    "start_time": "2022-04-18T21:03:51.821Z"
   },
   {
    "duration": 12,
    "start_time": "2022-04-18T21:03:51.839Z"
   },
   {
    "duration": 10,
    "start_time": "2022-04-18T21:03:51.852Z"
   },
   {
    "duration": 36,
    "start_time": "2022-04-18T21:03:51.864Z"
   },
   {
    "duration": 41,
    "start_time": "2022-04-18T21:03:51.902Z"
   },
   {
    "duration": 14,
    "start_time": "2022-04-18T21:03:51.945Z"
   },
   {
    "duration": 19,
    "start_time": "2022-04-18T21:03:51.960Z"
   },
   {
    "duration": 15,
    "start_time": "2022-04-18T21:03:51.981Z"
   },
   {
    "duration": 29,
    "start_time": "2022-04-18T21:03:51.999Z"
   },
   {
    "duration": 5,
    "start_time": "2022-04-18T21:03:52.030Z"
   },
   {
    "duration": 9,
    "start_time": "2022-04-18T21:03:52.037Z"
   },
   {
    "duration": 6,
    "start_time": "2022-04-18T21:03:52.047Z"
   },
   {
    "duration": 14,
    "start_time": "2022-04-18T21:05:47.324Z"
   }
  ],
  "colab": {
   "collapsed_sections": [
    "E0vqbgi9ay0H",
    "VUC88oWjTJw2"
   ],
   "name": "yandex_music_project_2021.2.ipynb",
   "provenance": []
  },
  "kernelspec": {
   "display_name": "Python 3 (ipykernel)",
   "language": "python",
   "name": "python3"
  },
  "language_info": {
   "codemirror_mode": {
    "name": "ipython",
    "version": 3
   },
   "file_extension": ".py",
   "mimetype": "text/x-python",
   "name": "python",
   "nbconvert_exporter": "python",
   "pygments_lexer": "ipython3",
   "version": "3.9.12"
  },
  "toc": {
   "base_numbering": 1,
   "nav_menu": {},
   "number_sections": true,
   "sideBar": true,
   "skip_h1_title": true,
   "title_cell": "Table of Contents",
   "title_sidebar": "Contents",
   "toc_cell": false,
   "toc_position": {
    "height": "calc(100% - 180px)",
    "left": "10px",
    "top": "150px",
    "width": "165px"
   },
   "toc_section_display": true,
   "toc_window_display": true
  }
 },
 "nbformat": 4,
 "nbformat_minor": 1
}
